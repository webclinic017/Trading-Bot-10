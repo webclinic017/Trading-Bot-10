{
 "cells": [
  {
   "cell_type": "code",
   "execution_count": 1,
   "metadata": {},
   "outputs": [],
   "source": [
    "import pandas as pd\n",
    "import pandas_ta as ta\n",
    "import random\n",
    "from collections import deque\n",
    "import random\n",
    "import numpy as np\n",
    "import tensorflow as tf\n",
    "from tensorflow.keras.callbacks import Callback\n",
    "from tensorflow.keras.utils import to_categorical\n",
    "from tensorflow.keras.models import Sequential, load_model\n",
    "from tensorflow.keras.layers import Dense, Dropout, LSTM, BatchNormalization, Flatten, Activation\n",
    "from tensorflow.keras.callbacks import TensorBoard\n",
    "from tensorflow.keras.callbacks import ModelCheckpoint, ModelCheckpoint\n",
    "import time\n",
    "import statistics\n",
    "from sklearn import preprocessing\n",
    "from matplotlib import pyplot as plt\n",
    "from IPython.display import clear_output\n",
    "import os.path\n",
    "import yfinance as yf"
   ]
  },
  {
   "cell_type": "code",
   "execution_count": 2,
   "metadata": {},
   "outputs": [],
   "source": [
    "ticker = \"TNA\""
   ]
  },
  {
   "cell_type": "code",
   "execution_count": 3,
   "metadata": {},
   "outputs": [],
   "source": [
    "def getDB(ticker):\n",
    "    tick = ticker\n",
    "    # Load data\n",
    "    data = yf.Ticker(tick)\n",
    "    df = data.history(period=\"1y\", interval=\"1d\")\n",
    "#     df = data.history(start=\"2018-12-01\", end=\"2020-03-01\")\n",
    "#     start=\"2017-01-01\", end=\"2017-04-30\"\n",
    "    \n",
    "    # add data points\n",
    "    df['close_per1'] = df.ta.percent_return(1)*100\n",
    "    df['sma10'] = df.ta.sma(length=10)\n",
    "    df['williams'] = df.ta.willr()\n",
    "\n",
    "\n",
    "    df = df[[\n",
    "            'open','close','sma10','williams','close_per1'\n",
    "            ]]\n",
    "\n",
    "    df = df.dropna()\n",
    "    \n",
    "    return df"
   ]
  },
  {
   "cell_type": "code",
   "execution_count": 4,
   "metadata": {},
   "outputs": [],
   "source": [
    "ticker = \"TNA\"\n",
    "df = getDB(ticker)"
   ]
  },
  {
   "cell_type": "code",
   "execution_count": 18,
   "metadata": {},
   "outputs": [],
   "source": [
    "returnP1 = []; returnP2 = []\n",
    "# setting the outputs in the df\n",
    "for i in range(len(df)-1):\n",
    "    if df.iloc[i]['close'] < df.iloc[i+1]['open']:\n",
    "#         print(\"close date: %s\" % (df.index[i]))\n",
    "#         print(\"open date: %s\" % (df.index[i+1]))\n",
    "#         print()\n",
    "\n",
    "        returnP1.append(df.iloc[i+1]['close_per1'])\n",
    "    \n",
    "        if df.iloc[i+1]['close_per1'] < 0:\n",
    "            returnP2.append(-0.10)\n",
    "        else:\n",
    "            returnP2.append(df.iloc[i+1]['close_per1'])\n",
    "#             returnP2.append(100*(df.iloc[i+1]['open']-df.iloc[i]['close'])/abs(df.iloc[i]['close']))\n",
    "            \n",
    "avgP1 = np.average(returnP1)\n",
    "avgP2 = np.average(returnP2)"
   ]
  },
  {
   "cell_type": "code",
   "execution_count": 19,
   "metadata": {},
   "outputs": [
    {
     "name": "stdout",
     "output_type": "stream",
     "text": [
      "Number of trade days: 239\n",
      "Number of trades: 138\n",
      "Percentage average when price opens higher than previous close: 1.668737\n",
      "Average return if loss limit is 0.1 percent: 2.395377\n"
     ]
    }
   ],
   "source": [
    "print(\"Number of trade days: %d\" % (len(df)))\n",
    "print(\"Number of trades: %d\" % (len(returnP2)))\n",
    "print(\"Percentage average when price opens higher than previous close: %f\" % (avgP1))\n",
    "print(\"Average return if loss limit is 0.1 percent: %f\" % (avgP2))"
   ]
  },
  {
   "cell_type": "code",
   "execution_count": 12,
   "metadata": {},
   "outputs": [
    {
     "name": "stdout",
     "output_type": "stream",
     "text": [
      "-0.04696045478285022\n",
      "85.18000030517578\n",
      "85.13999938964844\n"
     ]
    }
   ],
   "source": [
    "print(100*(df.iloc[i]['close']-df.iloc[i]['open'])/abs(df.iloc[i]['open']))\n",
    "print(df.iloc[i]['open'])\n",
    "print(df.iloc[i]['close'])"
   ]
  },
  {
   "cell_type": "code",
   "execution_count": 8,
   "metadata": {},
   "outputs": [],
   "source": [
    "import alpaca_trade_api as tradeapi\n",
    "import requests\n",
    "import time\n",
    "import numpy as np\n",
    "from datetime import datetime, timedelta\n",
    "from pytz import timezone\n",
    "\n",
    "BASE_URL = 'https://paper-api.alpaca.markets'\n",
    "PUB_KEY = 'PKAX56PAOU4925CJJ9BP'\n",
    "SEC_KEY = 'mHmA1VzpYPQ4sgFbBarM24rfUxUwXTJDfJXkSlWh'\n",
    "api = tradeapi.REST(key_id= PUB_KEY, secret_key=SEC_KEY, base_url=BASE_URL)"
   ]
  },
  {
   "cell_type": "code",
   "execution_count": 17,
   "metadata": {},
   "outputs": [
    {
     "name": "stdout",
     "output_type": "stream",
     "text": [
      "134.785\n"
     ]
    }
   ],
   "source": [
    "\n",
    "symb = \"FAS\"\n",
    "\n",
    "\n",
    "market_data = api.get_barset(symb, 'day', limit=5) # Get one bar object for each of the past 5 minutes\n",
    "\n",
    "close_list = [] # This array will store all the closing prices from the last 5 minutes\n",
    "for bar in market_data[symb]:\n",
    "    close_list.append(bar.c) # bar.c is the closing price of that bar's time interval\n",
    "\n",
    "close_list = np.array(close_list, dtype=np.float64) # Convert to numpy array\n",
    "ma = np.mean(close_list)\n",
    "last_price = close_list[4] # Most recent closing price\n",
    "\n",
    "# print(\"Moving Average: \" + str(ma))\n",
    "# print(\"Last Price: \" + str(last_price))\n",
    "\n",
    "print(market_data['FAS'][4].c)"
   ]
  },
  {
   "cell_type": "code",
   "execution_count": 30,
   "metadata": {},
   "outputs": [
    {
     "name": "stdout",
     "output_type": "stream",
     "text": [
      "{'FAS': [Bar({'c': 136.03, 'h': 136.03, 'l': 135.955, 'o': 136.02, 't': 1641223140, 'v': 300}), Bar({'c': 135.56, 'h': 135.56, 'l': 135.56, 'o': 135.56, 't': 1641223980, 'v': 100}), Bar({'c': 135.51, 'h': 135.51, 'l': 135.51, 'o': 135.51, 't': 1641225180, 'v': 100}), Bar({'c': 135.49, 'h': 135.49, 'l': 135.49, 'o': 135.49, 't': 1641225420, 'v': 100}), Bar({   'c': 135.105,\n",
      "    'h': 135.105,\n",
      "    'l': 135.105,\n",
      "    'o': 135.105,\n",
      "    't': 1641225600,\n",
      "    'v': 100}), Bar({   'c': 134.535,\n",
      "    'h': 134.535,\n",
      "    'l': 134.535,\n",
      "    'o': 134.535,\n",
      "    't': 1641226620,\n",
      "    'v': 170}), Bar({'c': 134.36, 'h': 134.36, 'l': 134.36, 'o': 134.36, 't': 1641226800, 'v': 100}), Bar({'c': 134.98, 'h': 134.98, 'l': 134.98, 'o': 134.98, 't': 1641227100, 'v': 100}), Bar({'c': 134.15, 'h': 134.15, 'l': 133.85, 'o': 133.85, 't': 1641228000, 'v': 500}), Bar({'c': 135.11, 'h': 135.11, 'l': 135.11, 'o': 135.11, 't': 1641229680, 'v': 100})]}\n"
     ]
    }
   ],
   "source": [
    "tsla = api.get_barset('FAS', '1Min', limit=10)\n",
    "print(tsla)"
   ]
  },
  {
   "cell_type": "code",
   "execution_count": 12,
   "metadata": {},
   "outputs": [
    {
     "ename": "APIError",
     "evalue": "1min is not a supported timeframe",
     "output_type": "error",
     "traceback": [
      "\u001b[0;31m---------------------------------------------------------------------------\u001b[0m",
      "\u001b[0;31mHTTPError\u001b[0m                                 Traceback (most recent call last)",
      "\u001b[0;32m/opt/anaconda3/lib/python3.8/site-packages/alpaca_trade_api/rest.py\u001b[0m in \u001b[0;36m_one_request\u001b[0;34m(self, method, url, opts, retry)\u001b[0m\n\u001b[1;32m    209\u001b[0m         \u001b[0;32mtry\u001b[0m\u001b[0;34m:\u001b[0m\u001b[0;34m\u001b[0m\u001b[0;34m\u001b[0m\u001b[0m\n\u001b[0;32m--> 210\u001b[0;31m             \u001b[0mresp\u001b[0m\u001b[0;34m.\u001b[0m\u001b[0mraise_for_status\u001b[0m\u001b[0;34m(\u001b[0m\u001b[0;34m)\u001b[0m\u001b[0;34m\u001b[0m\u001b[0;34m\u001b[0m\u001b[0m\n\u001b[0m\u001b[1;32m    211\u001b[0m         \u001b[0;32mexcept\u001b[0m \u001b[0mHTTPError\u001b[0m \u001b[0;32mas\u001b[0m \u001b[0mhttp_error\u001b[0m\u001b[0;34m:\u001b[0m\u001b[0;34m\u001b[0m\u001b[0;34m\u001b[0m\u001b[0m\n",
      "\u001b[0;32m/opt/anaconda3/lib/python3.8/site-packages/requests/models.py\u001b[0m in \u001b[0;36mraise_for_status\u001b[0;34m(self)\u001b[0m\n\u001b[1;32m    940\u001b[0m         \u001b[0;32mif\u001b[0m \u001b[0mhttp_error_msg\u001b[0m\u001b[0;34m:\u001b[0m\u001b[0;34m\u001b[0m\u001b[0;34m\u001b[0m\u001b[0m\n\u001b[0;32m--> 941\u001b[0;31m             \u001b[0;32mraise\u001b[0m \u001b[0mHTTPError\u001b[0m\u001b[0;34m(\u001b[0m\u001b[0mhttp_error_msg\u001b[0m\u001b[0;34m,\u001b[0m \u001b[0mresponse\u001b[0m\u001b[0;34m=\u001b[0m\u001b[0mself\u001b[0m\u001b[0;34m)\u001b[0m\u001b[0;34m\u001b[0m\u001b[0;34m\u001b[0m\u001b[0m\n\u001b[0m\u001b[1;32m    942\u001b[0m \u001b[0;34m\u001b[0m\u001b[0m\n",
      "\u001b[0;31mHTTPError\u001b[0m: 422 Client Error: Unprocessable Entity for url: https://data.alpaca.markets/v1/bars/1min?symbols=AAPL&limit=5",
      "\nDuring handling of the above exception, another exception occurred:\n",
      "\u001b[0;31mAPIError\u001b[0m                                  Traceback (most recent call last)",
      "\u001b[0;32m<ipython-input-12-be105451b6af>\u001b[0m in \u001b[0;36m<module>\u001b[0;34m\u001b[0m\n\u001b[1;32m      1\u001b[0m \u001b[0;31m# Get daily price data for AAPL over the last 5 trading days.\u001b[0m\u001b[0;34m\u001b[0m\u001b[0;34m\u001b[0m\u001b[0;34m\u001b[0m\u001b[0m\n\u001b[0;32m----> 2\u001b[0;31m \u001b[0mbarset\u001b[0m \u001b[0;34m=\u001b[0m \u001b[0mapi\u001b[0m\u001b[0;34m.\u001b[0m\u001b[0mget_barset\u001b[0m\u001b[0;34m(\u001b[0m\u001b[0;34m'AAPL'\u001b[0m\u001b[0;34m,\u001b[0m \u001b[0;34m'1min'\u001b[0m\u001b[0;34m,\u001b[0m \u001b[0mlimit\u001b[0m\u001b[0;34m=\u001b[0m\u001b[0;36m5\u001b[0m\u001b[0;34m)\u001b[0m\u001b[0;34m\u001b[0m\u001b[0;34m\u001b[0m\u001b[0m\n\u001b[0m\u001b[1;32m      3\u001b[0m \u001b[0maapl_bars\u001b[0m \u001b[0;34m=\u001b[0m \u001b[0mbarset\u001b[0m\u001b[0;34m[\u001b[0m\u001b[0;34m'AAPL'\u001b[0m\u001b[0;34m]\u001b[0m\u001b[0;34m[\u001b[0m\u001b[0;34m-\u001b[0m\u001b[0;36m1\u001b[0m\u001b[0;34m]\u001b[0m\u001b[0;34m.\u001b[0m\u001b[0mc\u001b[0m\u001b[0;34m\u001b[0m\u001b[0;34m\u001b[0m\u001b[0m\n\u001b[1;32m      4\u001b[0m \u001b[0;34m\u001b[0m\u001b[0m\n\u001b[1;32m      5\u001b[0m \u001b[0;31m# See how much AAPL moved in that timeframe.\u001b[0m\u001b[0;34m\u001b[0m\u001b[0;34m\u001b[0m\u001b[0;34m\u001b[0m\u001b[0m\n",
      "\u001b[0;32m/opt/anaconda3/lib/python3.8/site-packages/alpaca_trade_api/rest.py\u001b[0m in \u001b[0;36mget_barset\u001b[0;34m(self, symbols, timeframe, limit, start, end, after, until)\u001b[0m\n\u001b[1;32m    561\u001b[0m         \u001b[0;32mif\u001b[0m \u001b[0muntil\u001b[0m \u001b[0;32mis\u001b[0m \u001b[0;32mnot\u001b[0m \u001b[0;32mNone\u001b[0m\u001b[0;34m:\u001b[0m\u001b[0;34m\u001b[0m\u001b[0;34m\u001b[0m\u001b[0m\n\u001b[1;32m    562\u001b[0m             \u001b[0mparams\u001b[0m\u001b[0;34m[\u001b[0m\u001b[0;34m'until'\u001b[0m\u001b[0;34m]\u001b[0m \u001b[0;34m=\u001b[0m \u001b[0muntil\u001b[0m\u001b[0;34m\u001b[0m\u001b[0;34m\u001b[0m\u001b[0m\n\u001b[0;32m--> 563\u001b[0;31m         \u001b[0mresp\u001b[0m \u001b[0;34m=\u001b[0m \u001b[0mself\u001b[0m\u001b[0;34m.\u001b[0m\u001b[0mdata_get\u001b[0m\u001b[0;34m(\u001b[0m\u001b[0;34m'/bars/{}'\u001b[0m\u001b[0;34m.\u001b[0m\u001b[0mformat\u001b[0m\u001b[0;34m(\u001b[0m\u001b[0mtimeframe\u001b[0m\u001b[0;34m)\u001b[0m\u001b[0;34m,\u001b[0m \u001b[0mparams\u001b[0m\u001b[0;34m)\u001b[0m\u001b[0;34m\u001b[0m\u001b[0;34m\u001b[0m\u001b[0m\n\u001b[0m\u001b[1;32m    564\u001b[0m         \u001b[0;32mreturn\u001b[0m \u001b[0mself\u001b[0m\u001b[0;34m.\u001b[0m\u001b[0mresponse_wrapper\u001b[0m\u001b[0;34m(\u001b[0m\u001b[0mresp\u001b[0m\u001b[0;34m,\u001b[0m \u001b[0mBarSet\u001b[0m\u001b[0;34m)\u001b[0m\u001b[0;34m\u001b[0m\u001b[0;34m\u001b[0m\u001b[0m\n\u001b[1;32m    565\u001b[0m \u001b[0;34m\u001b[0m\u001b[0m\n",
      "\u001b[0;32m/opt/anaconda3/lib/python3.8/site-packages/alpaca_trade_api/rest.py\u001b[0m in \u001b[0;36mdata_get\u001b[0;34m(self, path, data, api_version)\u001b[0m\n\u001b[1;32m    240\u001b[0m     \u001b[0;32mdef\u001b[0m \u001b[0mdata_get\u001b[0m\u001b[0;34m(\u001b[0m\u001b[0mself\u001b[0m\u001b[0;34m,\u001b[0m \u001b[0mpath\u001b[0m\u001b[0;34m,\u001b[0m \u001b[0mdata\u001b[0m\u001b[0;34m=\u001b[0m\u001b[0;32mNone\u001b[0m\u001b[0;34m,\u001b[0m \u001b[0mapi_version\u001b[0m\u001b[0;34m=\u001b[0m\u001b[0;34m'v1'\u001b[0m\u001b[0;34m)\u001b[0m\u001b[0;34m:\u001b[0m\u001b[0;34m\u001b[0m\u001b[0;34m\u001b[0m\u001b[0m\n\u001b[1;32m    241\u001b[0m         \u001b[0mbase_url\u001b[0m\u001b[0;34m:\u001b[0m \u001b[0mURL\u001b[0m \u001b[0;34m=\u001b[0m \u001b[0mget_data_url\u001b[0m\u001b[0;34m(\u001b[0m\u001b[0;34m)\u001b[0m\u001b[0;34m\u001b[0m\u001b[0;34m\u001b[0m\u001b[0m\n\u001b[0;32m--> 242\u001b[0;31m         return self._request(\n\u001b[0m\u001b[1;32m    243\u001b[0m             \u001b[0;34m'GET'\u001b[0m\u001b[0;34m,\u001b[0m \u001b[0mpath\u001b[0m\u001b[0;34m,\u001b[0m \u001b[0mdata\u001b[0m\u001b[0;34m,\u001b[0m \u001b[0mbase_url\u001b[0m\u001b[0;34m=\u001b[0m\u001b[0mbase_url\u001b[0m\u001b[0;34m,\u001b[0m \u001b[0mapi_version\u001b[0m\u001b[0;34m=\u001b[0m\u001b[0mapi_version\u001b[0m\u001b[0;34m,\u001b[0m\u001b[0;34m\u001b[0m\u001b[0;34m\u001b[0m\u001b[0m\n\u001b[1;32m    244\u001b[0m         )\n",
      "\u001b[0;32m/opt/anaconda3/lib/python3.8/site-packages/alpaca_trade_api/rest.py\u001b[0m in \u001b[0;36m_request\u001b[0;34m(self, method, path, data, base_url, api_version)\u001b[0m\n\u001b[1;32m    187\u001b[0m         \u001b[0;32mwhile\u001b[0m \u001b[0mretry\u001b[0m \u001b[0;34m>=\u001b[0m \u001b[0;36m0\u001b[0m\u001b[0;34m:\u001b[0m\u001b[0;34m\u001b[0m\u001b[0;34m\u001b[0m\u001b[0m\n\u001b[1;32m    188\u001b[0m             \u001b[0;32mtry\u001b[0m\u001b[0;34m:\u001b[0m\u001b[0;34m\u001b[0m\u001b[0;34m\u001b[0m\u001b[0m\n\u001b[0;32m--> 189\u001b[0;31m                 \u001b[0;32mreturn\u001b[0m \u001b[0mself\u001b[0m\u001b[0;34m.\u001b[0m\u001b[0m_one_request\u001b[0m\u001b[0;34m(\u001b[0m\u001b[0mmethod\u001b[0m\u001b[0;34m,\u001b[0m \u001b[0murl\u001b[0m\u001b[0;34m,\u001b[0m \u001b[0mopts\u001b[0m\u001b[0;34m,\u001b[0m \u001b[0mretry\u001b[0m\u001b[0;34m)\u001b[0m\u001b[0;34m\u001b[0m\u001b[0;34m\u001b[0m\u001b[0m\n\u001b[0m\u001b[1;32m    190\u001b[0m             \u001b[0;32mexcept\u001b[0m \u001b[0mRetryException\u001b[0m\u001b[0;34m:\u001b[0m\u001b[0;34m\u001b[0m\u001b[0;34m\u001b[0m\u001b[0m\n\u001b[1;32m    191\u001b[0m                 \u001b[0mretry_wait\u001b[0m \u001b[0;34m=\u001b[0m \u001b[0mself\u001b[0m\u001b[0;34m.\u001b[0m\u001b[0m_retry_wait\u001b[0m\u001b[0;34m\u001b[0m\u001b[0;34m\u001b[0m\u001b[0m\n",
      "\u001b[0;32m/opt/anaconda3/lib/python3.8/site-packages/alpaca_trade_api/rest.py\u001b[0m in \u001b[0;36m_one_request\u001b[0;34m(self, method, url, opts, retry)\u001b[0m\n\u001b[1;32m    216\u001b[0m                 \u001b[0merror\u001b[0m \u001b[0;34m=\u001b[0m \u001b[0mresp\u001b[0m\u001b[0;34m.\u001b[0m\u001b[0mjson\u001b[0m\u001b[0;34m(\u001b[0m\u001b[0;34m)\u001b[0m\u001b[0;34m\u001b[0m\u001b[0;34m\u001b[0m\u001b[0m\n\u001b[1;32m    217\u001b[0m                 \u001b[0;32mif\u001b[0m \u001b[0;34m'code'\u001b[0m \u001b[0;32min\u001b[0m \u001b[0merror\u001b[0m\u001b[0;34m:\u001b[0m\u001b[0;34m\u001b[0m\u001b[0;34m\u001b[0m\u001b[0m\n\u001b[0;32m--> 218\u001b[0;31m                     \u001b[0;32mraise\u001b[0m \u001b[0mAPIError\u001b[0m\u001b[0;34m(\u001b[0m\u001b[0merror\u001b[0m\u001b[0;34m,\u001b[0m \u001b[0mhttp_error\u001b[0m\u001b[0;34m)\u001b[0m\u001b[0;34m\u001b[0m\u001b[0;34m\u001b[0m\u001b[0m\n\u001b[0m\u001b[1;32m    219\u001b[0m             \u001b[0;32melse\u001b[0m\u001b[0;34m:\u001b[0m\u001b[0;34m\u001b[0m\u001b[0;34m\u001b[0m\u001b[0m\n\u001b[1;32m    220\u001b[0m                 \u001b[0;32mraise\u001b[0m\u001b[0;34m\u001b[0m\u001b[0;34m\u001b[0m\u001b[0m\n",
      "\u001b[0;31mAPIError\u001b[0m: 1min is not a supported timeframe"
     ]
    }
   ],
   "source": [
    "\n",
    "# Get daily price data for AAPL over the last 5 trading days.\n",
    "barset = api.get_barset('AAPL', '1min', limit=5)\n",
    "aapl_bars = barset['AAPL'][-1].c\n",
    "\n",
    "# See how much AAPL moved in that timeframe.\n",
    "week_open = aapl_bars[0].o\n",
    "week_close = aapl_bars[-1].c\n",
    "percent_change = (week_close - week_open) / week_open * 100\n",
    "print('AAPL moved {}% over the last 5 days'.format(percent_change))"
   ]
  },
  {
   "cell_type": "code",
   "execution_count": 17,
   "metadata": {},
   "outputs": [
    {
     "data": {
      "text/plain": [
       "[Quote({   'ap': 129.8,\n",
       "     'as': 1,\n",
       "     'ax': 'P',\n",
       "     'bp': 123.8,\n",
       "     'bs': 1,\n",
       "     'bx': 'P',\n",
       "     'c': ['?'],\n",
       "     't': '2021-06-08T08:00:00.0828Z',\n",
       "     'z': 'C'}),\n",
       " Quote({   'ap': 143,\n",
       "     'as': 1,\n",
       "     'ax': 'P',\n",
       "     'bp': 120,\n",
       "     'bs': 1,\n",
       "     'bx': 'P',\n",
       "     'c': ['?'],\n",
       "     't': '2021-06-08T08:00:00.0828Z',\n",
       "     'z': 'C'}),\n",
       " Quote({   'ap': 129.7,\n",
       "     'as': 1,\n",
       "     'ax': 'P',\n",
       "     'bp': 124.2,\n",
       "     'bs': 1,\n",
       "     'bx': 'P',\n",
       "     'c': ['?'],\n",
       "     't': '2021-06-08T08:00:00.0828Z',\n",
       "     'z': 'C'}),\n",
       " Quote({   'ap': 143,\n",
       "     'as': 1,\n",
       "     'ax': 'P',\n",
       "     'bp': 0,\n",
       "     'bs': 0,\n",
       "     'bx': 'T',\n",
       "     'c': ['?'],\n",
       "     't': '2021-06-08T08:00:00.0828Z',\n",
       "     'z': 'C'}),\n",
       " Quote({   'ap': 143,\n",
       "     'as': 1,\n",
       "     'ax': 'P',\n",
       "     'bp': 116.5,\n",
       "     'bs': 1,\n",
       "     'bx': 'P',\n",
       "     'c': ['?'],\n",
       "     't': '2021-06-08T08:00:00.0828Z',\n",
       "     'z': 'C'}),\n",
       " Quote({   'ap': 129.7,\n",
       "     'as': 1,\n",
       "     'ax': 'P',\n",
       "     'bp': 123.8,\n",
       "     'bs': 1,\n",
       "     'bx': 'P',\n",
       "     'c': ['?'],\n",
       "     't': '2021-06-08T08:00:00.0828Z',\n",
       "     'z': 'C'}),\n",
       " Quote({   'ap': 128.94,\n",
       "     'as': 1,\n",
       "     'ax': 'P',\n",
       "     'bp': 124.2,\n",
       "     'bs': 1,\n",
       "     'bx': 'P',\n",
       "     'c': ['?'],\n",
       "     't': '2021-06-08T08:00:00.0828Z',\n",
       "     'z': 'C'}),\n",
       " Quote({   'ap': 134.18,\n",
       "     'as': 1,\n",
       "     'ax': 'P',\n",
       "     'bp': 123.36,\n",
       "     'bs': 1,\n",
       "     'bx': 'P',\n",
       "     'c': ['?'],\n",
       "     't': '2021-06-08T08:00:00.0828Z',\n",
       "     'z': 'C'}),\n",
       " Quote({   'ap': 128.23,\n",
       "     'as': 1,\n",
       "     'ax': 'P',\n",
       "     'bp': 124.2,\n",
       "     'bs': 1,\n",
       "     'bx': 'P',\n",
       "     'c': ['?'],\n",
       "     't': '2021-06-08T08:00:00.0828Z',\n",
       "     'z': 'C'}),\n",
       " Quote({   'ap': 143,\n",
       "     'as': 1,\n",
       "     'ax': 'P',\n",
       "     'bp': 102.51,\n",
       "     'bs': 1,\n",
       "     'bx': 'P',\n",
       "     'c': ['?'],\n",
       "     't': '2021-06-08T08:00:00.0828Z',\n",
       "     'z': 'C'})]"
      ]
     },
     "execution_count": 17,
     "metadata": {},
     "output_type": "execute_result"
    }
   ],
   "source": [
    "api.get_quotes(\"AAPL\", \"2021-06-08\", \"2021-06-08\", limit=10)"
   ]
  },
  {
   "cell_type": "code",
   "execution_count": null,
   "metadata": {},
   "outputs": [],
   "source": []
  },
  {
   "cell_type": "code",
   "execution_count": 21,
   "metadata": {},
   "outputs": [
    {
     "name": "stdout",
     "output_type": "stream",
     "text": [
      "$15783.864 is available as buying power.\n"
     ]
    }
   ],
   "source": [
    "\n",
    "# Get our account information.\n",
    "account = api.get_account()\n",
    "\n",
    "# Check if our account is restricted from trading.\n",
    "if account.trading_blocked:\n",
    "    print('Account is currently restricted from trading.')\n",
    "\n",
    "# Check how much money we can use to open new positions.\n",
    "print('${} is available as buying power.'.format(account.buying_power))"
   ]
  },
  {
   "cell_type": "code",
   "execution_count": 22,
   "metadata": {},
   "outputs": [
    {
     "name": "stdout",
     "output_type": "stream",
     "text": [
      "Number of tradable tickers in the NASDAQ: 4805.\n"
     ]
    }
   ],
   "source": [
    "\n",
    "# Get a list of all active assets.\n",
    "active_assets = api.list_assets(status='active')\n",
    "\n",
    "# Filter the assets down to just those on NASDAQ.\n",
    "nasdaq_assets = [a for a in active_assets if a.exchange == 'NASDAQ']\n",
    "print(\"Number of tradable tickers in the NASDAQ: {}.\".format(len(nasdaq_assets)))"
   ]
  },
  {
   "cell_type": "code",
   "execution_count": 23,
   "metadata": {},
   "outputs": [
    {
     "name": "stdout",
     "output_type": "stream",
     "text": [
      "The market is open.\n",
      "The market opened at 09:30:00 and closed at 16:00:00 on 2018-12-01.\n"
     ]
    }
   ],
   "source": [
    "\n",
    "# Check if the market is open now.\n",
    "clock = api.get_clock()\n",
    "print('The market is {}'.format('open.' if clock.is_open else 'closed.'))\n",
    "\n",
    "# Check when the market was open on Dec. 1, 2018\n",
    "DATE = '2018-12-01'\n",
    "calendar = api.get_calendar(start=DATE, end=DATE)[0]\n",
    "print('The market opened at {} and closed at {} on {}.'.format(\n",
    "    calendar.open,\n",
    "    calendar.close,\n",
    "    DATE\n",
    "))\n"
   ]
  },
  {
   "cell_type": "code",
   "execution_count": 24,
   "metadata": {},
   "outputs": [
    {
     "name": "stdout",
     "output_type": "stream",
     "text": [
      "Today's date: 2022-01-03\n"
     ]
    }
   ],
   "source": [
    "from datetime import date\n",
    "\n",
    "today = date.today()\n",
    "print(\"Today's date:\", today)\n"
   ]
  },
  {
   "cell_type": "code",
   "execution_count": 8,
   "metadata": {},
   "outputs": [
    {
     "name": "stdout",
     "output_type": "stream",
     "text": [
      "2018-12-01\n",
      "2022-01-02\n",
      "<class 'datetime.date'>\n"
     ]
    }
   ],
   "source": [
    "print(DATE)\n",
    "print(today)\n",
    "print(type(today))"
   ]
  },
  {
   "cell_type": "code",
   "execution_count": 13,
   "metadata": {},
   "outputs": [
    {
     "name": "stdout",
     "output_type": "stream",
     "text": [
      "Day 1.\n",
      "still the same day\n",
      "still the same day\n",
      "still the same day\n",
      "the day changed\n",
      "previous day close 130.7.\n",
      "still isnt open\n",
      "still isnt open\n",
      "still isnt open\n",
      "the market opened up\n",
      "\n",
      "Day 2.\n",
      "still the same day\n",
      "still the same day\n",
      "still the same day\n",
      "the day changed\n",
      "previous day close 130.7.\n",
      "still isnt open\n",
      "still isnt open\n",
      "still isnt open\n",
      "the market opened up\n",
      "\n",
      "Day 3.\n",
      "still the same day\n",
      "still the same day\n",
      "still the same day\n",
      "the day changed\n",
      "previous day close 130.7.\n",
      "still isnt open\n",
      "still isnt open\n",
      "still isnt open\n",
      "the market opened up\n",
      "\n"
     ]
    }
   ],
   "source": [
    "ticker = \"FAS\"\n",
    "\n",
    "trading = True; days = 1\n",
    "# making a loop that will last for 3 days\n",
    "while trading:\n",
    "    print(\"Day {}.\".format(days))\n",
    "    # waiting for the day to change\n",
    "    todayDate = date.today() # setting todays date\n",
    "    times = 0 # for testing reasons it will loop 3 times.\n",
    "    while date.today() == todayDate: # if it is still the same day it will stay up here in the code\n",
    "        print('still the same day')\n",
    "        times += 1\n",
    "        if times == 3:\n",
    "            todayDate = 'not today'\n",
    "        time.sleep(.25) # sleeping for 0.5 second so it isn't freaking out\n",
    "        \n",
    "    print('the day changed')\n",
    "\n",
    "    # Get daily price data for AAPL over the last 5 trading days.\n",
    "    barset = api.get_barset(ticker, 'day', limit=5)\n",
    "    open_price = barset[ticker][-1].c\n",
    "    print('previous day close {}.'.format(open_price))\n",
    "\n",
    "\n",
    "    clock = api.get_clock()\n",
    "    times = 0\n",
    "    while not clock.is_open:\n",
    "        times += 1\n",
    "        print('still isn''t open')\n",
    "        if times == 3:\n",
    "            break\n",
    "        \n",
    "    print('the market opened up')\n",
    "\n",
    "        \n",
    "    days += 1\n",
    "    if days == 4:\n",
    "        trading = False\n",
    "    \n",
    "    print()\n"
   ]
  },
  {
   "cell_type": "code",
   "execution_count": 73,
   "metadata": {},
   "outputs": [],
   "source": [
    "clock.is_open = True\n"
   ]
  },
  {
   "cell_type": "code",
   "execution_count": 74,
   "metadata": {},
   "outputs": [
    {
     "data": {
      "text/plain": [
       "True"
      ]
     },
     "execution_count": 74,
     "metadata": {},
     "output_type": "execute_result"
    }
   ],
   "source": [
    "clock.is_open "
   ]
  },
  {
   "cell_type": "code",
   "execution_count": 21,
   "metadata": {},
   "outputs": [
    {
     "name": "stdout",
     "output_type": "stream",
     "text": [
      "current time:- 2022-01-02 23:34:47.492965\n"
     ]
    }
   ],
   "source": [
    "import datetime\n",
    "ct = datetime.datetime.now()\n",
    "print(\"current time:-\", ct)\n"
   ]
  },
  {
   "cell_type": "code",
   "execution_count": 22,
   "metadata": {},
   "outputs": [
    {
     "ename": "KeyboardInterrupt",
     "evalue": "",
     "output_type": "error",
     "traceback": [
      "\u001b[0;31m---------------------------------------------------------------------------\u001b[0m",
      "\u001b[0;31mKeyboardInterrupt\u001b[0m                         Traceback (most recent call last)",
      "\u001b[0;32m<ipython-input-22-0842c78ceeb0>\u001b[0m in \u001b[0;36m<module>\u001b[0;34m\u001b[0m\n\u001b[1;32m      1\u001b[0m \u001b[0;31m## the script will loop here untill the market opens ##\u001b[0m\u001b[0;34m\u001b[0m\u001b[0;34m\u001b[0m\u001b[0;34m\u001b[0m\u001b[0m\n\u001b[1;32m      2\u001b[0m \u001b[0mclock\u001b[0m \u001b[0;34m=\u001b[0m \u001b[0mapi\u001b[0m\u001b[0;34m.\u001b[0m\u001b[0mget_clock\u001b[0m\u001b[0;34m(\u001b[0m\u001b[0;34m)\u001b[0m \u001b[0;31m# gets if the market is open\u001b[0m\u001b[0;34m\u001b[0m\u001b[0;34m\u001b[0m\u001b[0m\n\u001b[0;32m----> 3\u001b[0;31m \u001b[0;32mwhile\u001b[0m \u001b[0;32mnot\u001b[0m \u001b[0mclock\u001b[0m\u001b[0;34m.\u001b[0m\u001b[0mis_open\u001b[0m\u001b[0;34m:\u001b[0m\u001b[0;34m\u001b[0m\u001b[0;34m\u001b[0m\u001b[0m\n\u001b[0m\u001b[1;32m      4\u001b[0m     \u001b[0mct\u001b[0m \u001b[0;34m=\u001b[0m \u001b[0mdatetime\u001b[0m\u001b[0;34m.\u001b[0m\u001b[0mdatetime\u001b[0m\u001b[0;34m.\u001b[0m\u001b[0mnow\u001b[0m\u001b[0;34m(\u001b[0m\u001b[0;34m)\u001b[0m\u001b[0;34m\u001b[0m\u001b[0;34m\u001b[0m\u001b[0m\n",
      "\u001b[0;32m/opt/anaconda3/lib/python3.8/site-packages/alpaca_trade_api/entity.py\u001b[0m in \u001b[0;36m__getattr__\u001b[0;34m(self, key)\u001b[0m\n\u001b[1;32m    248\u001b[0m     \"\"\"\n\u001b[1;32m    249\u001b[0m \u001b[0;34m\u001b[0m\u001b[0m\n\u001b[0;32m--> 250\u001b[0;31m     \u001b[0;32mdef\u001b[0m \u001b[0m__getattr__\u001b[0m\u001b[0;34m(\u001b[0m\u001b[0mself\u001b[0m\u001b[0;34m,\u001b[0m \u001b[0mkey\u001b[0m\u001b[0;34m)\u001b[0m\u001b[0;34m:\u001b[0m\u001b[0;34m\u001b[0m\u001b[0;34m\u001b[0m\u001b[0m\n\u001b[0m\u001b[1;32m    251\u001b[0m         \u001b[0;32mif\u001b[0m \u001b[0mkey\u001b[0m \u001b[0;32min\u001b[0m \u001b[0mself\u001b[0m\u001b[0;34m.\u001b[0m\u001b[0m_raw\u001b[0m\u001b[0;34m:\u001b[0m\u001b[0;34m\u001b[0m\u001b[0;34m\u001b[0m\u001b[0m\n\u001b[1;32m    252\u001b[0m             \u001b[0mval\u001b[0m \u001b[0;34m=\u001b[0m \u001b[0mself\u001b[0m\u001b[0;34m.\u001b[0m\u001b[0m_raw\u001b[0m\u001b[0;34m[\u001b[0m\u001b[0mkey\u001b[0m\u001b[0;34m]\u001b[0m\u001b[0;34m\u001b[0m\u001b[0;34m\u001b[0m\u001b[0m\n",
      "\u001b[0;31mKeyboardInterrupt\u001b[0m: "
     ]
    }
   ],
   "source": [
    "## the script will loop here untill the market opens ##\n",
    "clock = api.get_clock() # gets if the market is open\n",
    "while not clock.is_open:\n",
    "    ct = datetime.datetime.now()\n",
    "print(\"The market opened at this time: {}.\".format(ct))"
   ]
  },
  {
   "cell_type": "code",
   "execution_count": 23,
   "metadata": {},
   "outputs": [
    {
     "name": "stdout",
     "output_type": "stream",
     "text": [
      "The market opened at this time: 2022-01-02 23:36:05.355848.\n"
     ]
    }
   ],
   "source": [
    "print(\"The market opened at this time: {}.\".format(ct))"
   ]
  },
  {
   "cell_type": "code",
   "execution_count": 24,
   "metadata": {},
   "outputs": [
    {
     "name": "stdout",
     "output_type": "stream",
     "text": [
      "\n",
      "The market opened up at timestamp: 2022-01-03 00:09:02.174095938-05:00.\n"
     ]
    }
   ],
   "source": [
    "clock = api.get_clock() # gets if the market is open\n",
    "\n",
    "print()\n",
    "print(\"The market opened up at timestamp: {}.\".format(clock.timestamp))"
   ]
  },
  {
   "cell_type": "code",
   "execution_count": 25,
   "metadata": {},
   "outputs": [
    {
     "data": {
      "text/plain": [
       "9"
      ]
     },
     "execution_count": 25,
     "metadata": {},
     "output_type": "execute_result"
    }
   ],
   "source": [
    "clock.timestamp.minute"
   ]
  },
  {
   "cell_type": "code",
   "execution_count": 27,
   "metadata": {},
   "outputs": [
    {
     "name": "stdout",
     "output_type": "stream",
     "text": [
      "2022-01-03\n",
      "Quote({   'askexchange': 15,\n",
      "    'askprice': 183.45,\n",
      "    'asksize': 1,\n",
      "    'bidexchange': 15,\n",
      "    'bidprice': 181.33,\n",
      "    'bidsize': 4,\n",
      "    'timestamp': 1641229590425260936})\n"
     ]
    },
    {
     "name": "stderr",
     "output_type": "stream",
     "text": [
      "<ipython-input-27-a3efe4c91f3f>:7: UserWarning: Discarding nonzero nanoseconds in conversion\n",
      "  ts = convertTS(lq.timestamp)\n"
     ]
    }
   ],
   "source": [
    "def convertTS(timestamp):\n",
    "    t = timestamp.to_pydatetime()\n",
    "    s = t.strftime('%Y-%m-%d')\n",
    "    return s\n",
    "lq = api.get_last_quote(\"AAPL\")\n",
    "# print(lq)\n",
    "ts = convertTS(lq.timestamp)\n",
    "# info = lq.timestamp\n",
    "# t = info.to_pydatetime()\n",
    "# s = t.strftime('%Y-%m-%d')\n",
    "print(ts)\n",
    "print(lq)"
   ]
  },
  {
   "cell_type": "code",
   "execution_count": null,
   "metadata": {},
   "outputs": [],
   "source": []
  }
 ],
 "metadata": {
  "kernelspec": {
   "display_name": "Python 3",
   "language": "python",
   "name": "python3"
  },
  "language_info": {
   "codemirror_mode": {
    "name": "ipython",
    "version": 3
   },
   "file_extension": ".py",
   "mimetype": "text/x-python",
   "name": "python",
   "nbconvert_exporter": "python",
   "pygments_lexer": "ipython3",
   "version": "3.8.5"
  }
 },
 "nbformat": 4,
 "nbformat_minor": 4
}

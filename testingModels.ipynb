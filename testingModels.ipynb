{
 "cells": [
  {
   "cell_type": "code",
   "execution_count": 7,
   "metadata": {},
   "outputs": [],
   "source": [
    "import pandas as pd\n",
    "import pandas_ta as ta\n",
    "import random\n",
    "from collections import deque\n",
    "import random\n",
    "import numpy as np\n",
    "import tensorflow as tf\n",
    "from tensorflow.keras.callbacks import Callback\n",
    "from tensorflow.keras.utils import to_categorical\n",
    "from tensorflow.keras.models import Sequential, load_model\n",
    "from tensorflow.keras.layers import Dense, Dropout, LSTM, BatchNormalization, Flatten, Activation\n",
    "from tensorflow.keras.callbacks import TensorBoard\n",
    "from tensorflow.keras.callbacks import ModelCheckpoint, ModelCheckpoint\n",
    "import time\n",
    "import statistics\n",
    "from sklearn import preprocessing\n",
    "from matplotlib import pyplot as plt\n",
    "from IPython.display import clear_output\n",
    "import os.path\n",
    "import yfinance as yf"
   ]
  },
  {
   "cell_type": "code",
   "execution_count": 8,
   "metadata": {},
   "outputs": [],
   "source": [
    "ticker = \"TNA\""
   ]
  },
  {
   "cell_type": "code",
   "execution_count": 9,
   "metadata": {},
   "outputs": [],
   "source": [
    "def getDB(ticker):\n",
    "    tick = ticker\n",
    "    # Load data\n",
    "    data = yf.Ticker(tick)\n",
    "    df = data.history(period=\"1y\", interval=\"1d\")\n",
    "#     df = data.history(start=\"2018-12-01\", end=\"2020-03-01\")\n",
    "#     start=\"2017-01-01\", end=\"2017-04-30\"\n",
    "    \n",
    "    # add data points\n",
    "    df['close_per1'] = df.ta.percent_return(1)*100\n",
    "    df['sma10'] = df.ta.sma(length=10)\n",
    "    df['williams'] = df.ta.willr()\n",
    "\n",
    "\n",
    "    df = df[[\n",
    "            'open','close','sma10','williams','close_per1'\n",
    "            ]]\n",
    "\n",
    "    df = df.dropna()\n",
    "    \n",
    "    return df"
   ]
  },
  {
   "cell_type": "code",
   "execution_count": 10,
   "metadata": {},
   "outputs": [],
   "source": [
    "df = getDB(ticker)"
   ]
  },
  {
   "cell_type": "code",
   "execution_count": 16,
   "metadata": {},
   "outputs": [],
   "source": [
    "returnP1 = []; returnP2 = []\n",
    "# setting the outputs in the df\n",
    "for i in range(len(df)-1):\n",
    "    if df.iloc[i]['close'] < df.iloc[i+1]['open']:\n",
    "#         print(\"close date: %s\" % (df.index[i]))\n",
    "#         print(\"open date: %s\" % (df.index[i+1]))\n",
    "#         print()\n",
    "\n",
    "        returnP1.append(df.iloc[i+1]['close_per1'])\n",
    "    \n",
    "        if df.iloc[i+1]['close_per1'] < 0:\n",
    "            returnP2.append(-0.10)\n",
    "        else:\n",
    "            returnP2.append(df.iloc[i+1]['close_per1'])\n",
    "            \n",
    "avgP1 = np.average(returnP1)\n",
    "avgP2 = np.average(returnP2)"
   ]
  },
  {
   "cell_type": "code",
   "execution_count": 17,
   "metadata": {},
   "outputs": [
    {
     "name": "stdout",
     "output_type": "stream",
     "text": [
      "Number of trade days: 239\n",
      "Number of trades: 138\n",
      "Percentage average when price opens higher than previous close: 1.668737\n",
      "Average return if loss limit is 0.1 percent: 2.395377\n"
     ]
    }
   ],
   "source": [
    "print(\"Number of trade days: %d\" % (len(df)))\n",
    "print(\"Number of trades: %d\" % (len(returnP)))\n",
    "print(\"Percentage average when price opens higher than previous close: %f\" % (avgP1))\n",
    "print(\"Average return if loss limit is 0.1 percent: %f\" % (avgP2))"
   ]
  },
  {
   "cell_type": "code",
   "execution_count": 1,
   "metadata": {},
   "outputs": [],
   "source": [
    "import alpaca_trade_api as tradeapi\n",
    "import requests\n",
    "import time\n",
    "import numpy as np\n",
    "from datetime import datetime, timedelta\n",
    "from pytz import timezone"
   ]
  },
  {
   "cell_type": "code",
   "execution_count": 23,
   "metadata": {},
   "outputs": [],
   "source": [
    "\n",
    "BASE_URL = 'https://paper-api.alpaca.markets'\n",
    "PUB_KEY = 'PK5L3FU9VKRXYAPYWJ6I'\n",
    "SEC_KEY = 'vp0FJH8BZmBisyi2jjjwxMEjDHRAw1RdQfUMwS4M'\n",
    "api = tradeapi.REST(key_id= PUB_KEY, secret_key=SEC_KEY, base_url=BASE_URL)\n",
    "\n",
    "\n",
    "\n",
    "symb = \"FAS\"\n",
    "\n",
    "\n",
    "market_data = api.get_barset(symb, 'day', limit=5) # Get one bar object for each of the past 5 minutes\n",
    "\n",
    "close_list = [] # This array will store all the closing prices from the last 5 minutes\n",
    "for bar in market_data[symb]:\n",
    "    close_list.append(bar.c) # bar.c is the closing price of that bar's time interval\n",
    "\n",
    "close_list = np.array(close_list, dtype=np.float64) # Convert to numpy array\n",
    "ma = np.mean(close_list)\n",
    "last_price = close_list[4] # Most recent closing price\n",
    "\n",
    "# print(\"Moving Average: \" + str(ma))\n",
    "# print(\"Last Price: \" + str(last_price))\n",
    "\n",
    "print(market_data['FAS'][4].c)"
   ]
  },
  {
   "cell_type": "code",
   "execution_count": 2,
   "metadata": {},
   "outputs": [],
   "source": [
    "import alpaca_trade_api as tradeapi\n",
    "BASE_URL = 'https://paper-api.alpaca.markets'\n",
    "PUB_KEY = 'PK23SND8QLZ211MQPQXI'\n",
    "SEC_KEY = '97t5BjP9Ugmym4404zPqRL2js2RWs9PZXt3dhbOr'\n",
    "api = tradeapi.REST(key_id= PUB_KEY, secret_key=SEC_KEY, base_url=BASE_URL)\n"
   ]
  },
  {
   "cell_type": "code",
   "execution_count": 3,
   "metadata": {},
   "outputs": [
    {
     "name": "stdout",
     "output_type": "stream",
     "text": [
      "AAPL moved 0.2936360042916089% over the last 5 days\n"
     ]
    }
   ],
   "source": [
    "\n",
    "# Get daily price data for AAPL over the last 5 trading days.\n",
    "barset = api.get_barset('AAPL', 'day', limit=5)\n",
    "aapl_bars = barset['AAPL'][-1].c\n",
    "\n",
    "# See how much AAPL moved in that timeframe.\n",
    "week_open = aapl_bars[0].o\n",
    "week_close = aapl_bars[-1].c\n",
    "percent_change = (week_close - week_open) / week_open * 100\n",
    "print('AAPL moved {}% over the last 5 days'.format(percent_change))"
   ]
  },
  {
   "cell_type": "code",
   "execution_count": 17,
   "metadata": {},
   "outputs": [
    {
     "data": {
      "text/plain": [
       "[Quote({   'ap': 129.8,\n",
       "     'as': 1,\n",
       "     'ax': 'P',\n",
       "     'bp': 123.8,\n",
       "     'bs': 1,\n",
       "     'bx': 'P',\n",
       "     'c': ['?'],\n",
       "     't': '2021-06-08T08:00:00.0828Z',\n",
       "     'z': 'C'}),\n",
       " Quote({   'ap': 143,\n",
       "     'as': 1,\n",
       "     'ax': 'P',\n",
       "     'bp': 120,\n",
       "     'bs': 1,\n",
       "     'bx': 'P',\n",
       "     'c': ['?'],\n",
       "     't': '2021-06-08T08:00:00.0828Z',\n",
       "     'z': 'C'}),\n",
       " Quote({   'ap': 129.7,\n",
       "     'as': 1,\n",
       "     'ax': 'P',\n",
       "     'bp': 124.2,\n",
       "     'bs': 1,\n",
       "     'bx': 'P',\n",
       "     'c': ['?'],\n",
       "     't': '2021-06-08T08:00:00.0828Z',\n",
       "     'z': 'C'}),\n",
       " Quote({   'ap': 143,\n",
       "     'as': 1,\n",
       "     'ax': 'P',\n",
       "     'bp': 0,\n",
       "     'bs': 0,\n",
       "     'bx': 'T',\n",
       "     'c': ['?'],\n",
       "     't': '2021-06-08T08:00:00.0828Z',\n",
       "     'z': 'C'}),\n",
       " Quote({   'ap': 143,\n",
       "     'as': 1,\n",
       "     'ax': 'P',\n",
       "     'bp': 116.5,\n",
       "     'bs': 1,\n",
       "     'bx': 'P',\n",
       "     'c': ['?'],\n",
       "     't': '2021-06-08T08:00:00.0828Z',\n",
       "     'z': 'C'}),\n",
       " Quote({   'ap': 129.7,\n",
       "     'as': 1,\n",
       "     'ax': 'P',\n",
       "     'bp': 123.8,\n",
       "     'bs': 1,\n",
       "     'bx': 'P',\n",
       "     'c': ['?'],\n",
       "     't': '2021-06-08T08:00:00.0828Z',\n",
       "     'z': 'C'}),\n",
       " Quote({   'ap': 128.94,\n",
       "     'as': 1,\n",
       "     'ax': 'P',\n",
       "     'bp': 124.2,\n",
       "     'bs': 1,\n",
       "     'bx': 'P',\n",
       "     'c': ['?'],\n",
       "     't': '2021-06-08T08:00:00.0828Z',\n",
       "     'z': 'C'}),\n",
       " Quote({   'ap': 134.18,\n",
       "     'as': 1,\n",
       "     'ax': 'P',\n",
       "     'bp': 123.36,\n",
       "     'bs': 1,\n",
       "     'bx': 'P',\n",
       "     'c': ['?'],\n",
       "     't': '2021-06-08T08:00:00.0828Z',\n",
       "     'z': 'C'}),\n",
       " Quote({   'ap': 128.23,\n",
       "     'as': 1,\n",
       "     'ax': 'P',\n",
       "     'bp': 124.2,\n",
       "     'bs': 1,\n",
       "     'bx': 'P',\n",
       "     'c': ['?'],\n",
       "     't': '2021-06-08T08:00:00.0828Z',\n",
       "     'z': 'C'}),\n",
       " Quote({   'ap': 143,\n",
       "     'as': 1,\n",
       "     'ax': 'P',\n",
       "     'bp': 102.51,\n",
       "     'bs': 1,\n",
       "     'bx': 'P',\n",
       "     'c': ['?'],\n",
       "     't': '2021-06-08T08:00:00.0828Z',\n",
       "     'z': 'C'})]"
      ]
     },
     "execution_count": 17,
     "metadata": {},
     "output_type": "execute_result"
    }
   ],
   "source": [
    "api.get_quotes(\"AAPL\", \"2021-06-08\", \"2021-06-08\", limit=10)"
   ]
  },
  {
   "cell_type": "code",
   "execution_count": null,
   "metadata": {},
   "outputs": [],
   "source": []
  },
  {
   "cell_type": "code",
   "execution_count": 4,
   "metadata": {},
   "outputs": [
    {
     "name": "stdout",
     "output_type": "stream",
     "text": [
      "$200000 is available as buying power.\n"
     ]
    }
   ],
   "source": [
    "\n",
    "# Get our account information.\n",
    "account = api.get_account()\n",
    "\n",
    "# Check if our account is restricted from trading.\n",
    "if account.trading_blocked:\n",
    "    print('Account is currently restricted from trading.')\n",
    "\n",
    "# Check how much money we can use to open new positions.\n",
    "print('${} is available as buying power.'.format(account.buying_power))"
   ]
  },
  {
   "cell_type": "code",
   "execution_count": 5,
   "metadata": {},
   "outputs": [
    {
     "name": "stdout",
     "output_type": "stream",
     "text": [
      "Number of tradable tickers in the NASDAQ: 4805.\n"
     ]
    }
   ],
   "source": [
    "\n",
    "# Get a list of all active assets.\n",
    "active_assets = api.list_assets(status='active')\n",
    "\n",
    "# Filter the assets down to just those on NASDAQ.\n",
    "nasdaq_assets = [a for a in active_assets if a.exchange == 'NASDAQ']\n",
    "print(\"Number of tradable tickers in the NASDAQ: {}.\".format(len(nasdaq_assets)))"
   ]
  },
  {
   "cell_type": "code",
   "execution_count": 6,
   "metadata": {},
   "outputs": [
    {
     "name": "stdout",
     "output_type": "stream",
     "text": [
      "The market is closed.\n",
      "The market opened at 09:30:00 and closed at 16:00:00 on 2018-12-01.\n"
     ]
    }
   ],
   "source": [
    "\n",
    "# Check if the market is open now.\n",
    "clock = api.get_clock()\n",
    "print('The market is {}'.format('open.' if clock.is_open else 'closed.'))\n",
    "\n",
    "# Check when the market was open on Dec. 1, 2018\n",
    "DATE = '2018-12-01'\n",
    "calendar = api.get_calendar(start=DATE, end=DATE)[0]\n",
    "print('The market opened at {} and closed at {} on {}.'.format(\n",
    "    calendar.open,\n",
    "    calendar.close,\n",
    "    DATE\n",
    "))\n"
   ]
  },
  {
   "cell_type": "code",
   "execution_count": 7,
   "metadata": {},
   "outputs": [
    {
     "name": "stdout",
     "output_type": "stream",
     "text": [
      "Today's date: 2022-01-02\n"
     ]
    }
   ],
   "source": [
    "from datetime import date\n",
    "\n",
    "today = date.today()\n",
    "print(\"Today's date:\", today)\n"
   ]
  },
  {
   "cell_type": "code",
   "execution_count": 8,
   "metadata": {},
   "outputs": [
    {
     "name": "stdout",
     "output_type": "stream",
     "text": [
      "2018-12-01\n",
      "2022-01-02\n",
      "<class 'datetime.date'>\n"
     ]
    }
   ],
   "source": [
    "print(DATE)\n",
    "print(today)\n",
    "print(type(today))"
   ]
  },
  {
   "cell_type": "code",
   "execution_count": 13,
   "metadata": {},
   "outputs": [
    {
     "name": "stdout",
     "output_type": "stream",
     "text": [
      "Day 1.\n",
      "still the same day\n",
      "still the same day\n",
      "still the same day\n",
      "the day changed\n",
      "previous day close 130.7.\n",
      "still isnt open\n",
      "still isnt open\n",
      "still isnt open\n",
      "the market opened up\n",
      "\n",
      "Day 2.\n",
      "still the same day\n",
      "still the same day\n",
      "still the same day\n",
      "the day changed\n",
      "previous day close 130.7.\n",
      "still isnt open\n",
      "still isnt open\n",
      "still isnt open\n",
      "the market opened up\n",
      "\n",
      "Day 3.\n",
      "still the same day\n",
      "still the same day\n",
      "still the same day\n",
      "the day changed\n",
      "previous day close 130.7.\n",
      "still isnt open\n",
      "still isnt open\n",
      "still isnt open\n",
      "the market opened up\n",
      "\n"
     ]
    }
   ],
   "source": [
    "ticker = \"FAS\"\n",
    "\n",
    "trading = True; days = 1\n",
    "# making a loop that will last for 3 days\n",
    "while trading:\n",
    "    print(\"Day {}.\".format(days))\n",
    "    # waiting for the day to change\n",
    "    todayDate = date.today() # setting todays date\n",
    "    times = 0 # for testing reasons it will loop 3 times.\n",
    "    while date.today() == todayDate: # if it is still the same day it will stay up here in the code\n",
    "        print('still the same day')\n",
    "        times += 1\n",
    "        if times == 3:\n",
    "            todayDate = 'not today'\n",
    "        time.sleep(.25) # sleeping for 0.5 second so it isn't freaking out\n",
    "        \n",
    "    print('the day changed')\n",
    "\n",
    "    # Get daily price data for AAPL over the last 5 trading days.\n",
    "    barset = api.get_barset(ticker, 'day', limit=5)\n",
    "    open_price = barset[ticker][-1].c\n",
    "    print('previous day close {}.'.format(open_price))\n",
    "\n",
    "\n",
    "    clock = api.get_clock()\n",
    "    times = 0\n",
    "    while not clock.is_open:\n",
    "        times += 1\n",
    "        print('still isn''t open')\n",
    "        if times == 3:\n",
    "            break\n",
    "        \n",
    "    print('the market opened up')\n",
    "\n",
    "        \n",
    "    days += 1\n",
    "    if days == 4:\n",
    "        trading = False\n",
    "    \n",
    "    print()\n"
   ]
  },
  {
   "cell_type": "code",
   "execution_count": 73,
   "metadata": {},
   "outputs": [],
   "source": [
    "clock.is_open = True\n"
   ]
  },
  {
   "cell_type": "code",
   "execution_count": 74,
   "metadata": {},
   "outputs": [
    {
     "data": {
      "text/plain": [
       "True"
      ]
     },
     "execution_count": 74,
     "metadata": {},
     "output_type": "execute_result"
    }
   ],
   "source": [
    "clock.is_open "
   ]
  },
  {
   "cell_type": "code",
   "execution_count": null,
   "metadata": {},
   "outputs": [],
   "source": []
  }
 ],
 "metadata": {
  "kernelspec": {
   "display_name": "Python 3",
   "language": "python",
   "name": "python3"
  },
  "language_info": {
   "codemirror_mode": {
    "name": "ipython",
    "version": 3
   },
   "file_extension": ".py",
   "mimetype": "text/x-python",
   "name": "python",
   "nbconvert_exporter": "python",
   "pygments_lexer": "ipython3",
   "version": "3.8.5"
  }
 },
 "nbformat": 4,
 "nbformat_minor": 4
}

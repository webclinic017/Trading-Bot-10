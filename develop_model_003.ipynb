{
 "cells": [
  {
   "cell_type": "code",
   "execution_count": 56,
   "metadata": {},
   "outputs": [],
   "source": [
    "import alpaca_trade_api as tradeapi\n",
    "from datetime import date\n",
    "import time\n",
    "import datetime\n",
    "import requests\n",
    "import json\n",
    "import pandas as pd\n",
    "import numpy as np\n",
    "from datetime import datetime, timedelta\n",
    "from pytz import timezone\n",
    "import pandas_ta as ta\n",
    "\n",
    "\n",
    "BASE_URL = 'https://paper-api.alpaca.markets'\n",
    "PUB_KEY = 'PKAX56PAOU4925CJJ9BP'\n",
    "SEC_KEY = 'mHmA1VzpYPQ4sgFbBarM24rfUxUwXTJDfJXkSlWh'\n",
    "api = tradeapi.REST(key_id= PUB_KEY, secret_key=SEC_KEY, base_url=BASE_URL)"
   ]
  },
  {
   "cell_type": "code",
   "execution_count": 49,
   "metadata": {},
   "outputs": [],
   "source": [
    "ticker = \"FAS\""
   ]
  },
  {
   "cell_type": "code",
   "execution_count": 50,
   "metadata": {},
   "outputs": [
    {
     "name": "stdout",
     "output_type": "stream",
     "text": [
      "timestamp: 2022-01-03 12:08:55.435559315-05:00, price: 135.11\n"
     ]
    }
   ],
   "source": [
    "## Getting the latest data point ##\n",
    "last_price = api.get_last_trade(ticker).price\n",
    "last_timestamp = api.get_last_trade(ticker).timestamp\n",
    "print(\"timestamp: {}, price: {}\".format(last_timestamp, last_price))"
   ]
  },
  {
   "cell_type": "code",
   "execution_count": 69,
   "metadata": {},
   "outputs": [],
   "source": [
    "## this is all the data I need for the calculation ##\n",
    "data = api.get_barset(ticker, 'day', limit=60).df"
   ]
  },
  {
   "cell_type": "code",
   "execution_count": 97,
   "metadata": {},
   "outputs": [
    {
     "name": "stdout",
     "output_type": "stream",
     "text": [
      "                             open    close     sma10   williams\n",
      "time                                                           \n",
      "2021-12-28 00:00:00-05:00  132.48  132.620  127.3530 -13.657906\n",
      "2021-12-29 00:00:00-05:00  133.60  132.140  127.8620 -15.725980\n",
      "2021-12-30 00:00:00-05:00  133.07  131.270  128.1120 -19.474364\n",
      "2021-12-31 00:00:00-05:00  130.72  130.700  127.9480 -21.930202\n",
      "2022-01-03 00:00:00-05:00  133.56  134.562  128.9952  -8.522680\n",
      "-8.522679983354141\n"
     ]
    }
   ],
   "source": [
    "## Making a function that takes in ticker and outputs df with ti ##\n",
    "def getDF(ticker, LIMIT):\n",
    "    # Load data\n",
    "    df = api.get_barset(ticker, 'day', limit=LIMIT).df\n",
    "    df = df.set_axis(['open', 'high', 'low', 'close', 'volume'], axis=1, inplace=False)\n",
    "\n",
    "    # add data points\n",
    "    df['sma10'] = df.ta.sma(length=10)\n",
    "    df['williams'] = df.ta.willr()\n",
    "\n",
    "    df = df[[\n",
    "            'open','close','sma10','williams'\n",
    "            ]]\n",
    "\n",
    "    df = df.dropna()\n",
    "    \n",
    "    return df\n",
    "\n",
    "df = getDF(ticker, 60)\n",
    "print(df.tail())\n",
    "print(df.iloc[-1]['williams'])"
   ]
  },
  {
   "cell_type": "code",
   "execution_count": 77,
   "metadata": {},
   "outputs": [
    {
     "name": "stdout",
     "output_type": "stream",
     "text": [
      "The market closes in 156.99626868333334 minutes.\n"
     ]
    }
   ],
   "source": [
    "## check market time ##\n",
    "def time_to_market_close():\n",
    "    clock = api.get_clock()\n",
    "    return (clock.next_close - clock.timestamp).total_seconds()/60\n",
    "\n",
    "minutes = time_to_market_close()\n",
    "print(\"The market closes in {} minutes.\".format(minutes))"
   ]
  },
  {
   "cell_type": "code",
   "execution_count": 94,
   "metadata": {},
   "outputs": [
    {
     "name": "stdout",
     "output_type": "stream",
     "text": [
      "I own 20 shares of YINN.\n",
      "I own 20 shares of NAIL.\n",
      "I own 20 shares of LABU.\n"
     ]
    }
   ],
   "source": [
    "## check current positions ##\n",
    "# Get a list of all of our positions.\n",
    "portfolio = api.list_positions()\n",
    "# Print the quantity of shares for each position.\n",
    "for position in portfolio:\n",
    "    print(\"I own {} shares of {}.\".format(position.qty, position.symbol))"
   ]
  },
  {
   "cell_type": "code",
   "execution_count": 96,
   "metadata": {},
   "outputs": [
    {
     "name": "stdout",
     "output_type": "stream",
     "text": [
      "5 orders in.\n",
      "Sell 10 shares of TECL on cls.\n",
      "Sell 10 shares of NAIL on cls.\n",
      "Sell 10 shares of YINN on cls.\n",
      "Sell 10 shares of LABU on cls.\n",
      "Sell 10 shares of LABU on cls.\n"
     ]
    }
   ],
   "source": [
    "## list orders and details ##\n",
    "orders = api.list_orders()\n",
    "print(\"{} orders in.\".format(len(orders)))\n",
    "for o in orders:\n",
    "    print(\"Sell {} shares of {} on {}.\".format(o.qty, o.symbol, o.time_in_force))"
   ]
  },
  {
   "cell_type": "code",
   "execution_count": 127,
   "metadata": {},
   "outputs": [
    {
     "name": "stdout",
     "output_type": "stream",
     "text": [
      "Buying descision: False for ticker: FAS.\n",
      "Buying descision: False for ticker: TNA.\n",
      "Buying descision: False for ticker: SOXL.\n",
      "Buying descision: False for ticker: TECL.\n",
      "Buying descision: False for ticker: LABU.\n",
      "Buying descision: False for ticker: YINN.\n",
      "Buying descision: False for ticker: DPST.\n",
      "Buying descision: False for ticker: NAIL.\n"
     ]
    }
   ],
   "source": [
    "## check to see if any of tickers have buy signals ##\n",
    "def should_buy(tickers):\n",
    "    des = []\n",
    "    for ticker in tickers:\n",
    "        data = getDF(ticker, 60)\n",
    "        if data.iloc[-1]['williams'] < -80:\n",
    "            des.append([ticker,True])\n",
    "        else:\n",
    "            des.append([ticker,False])\n",
    "    return des\n",
    "\n",
    "tickers = [\"FAS\",\"TNA\",\"SOXL\",\"TECL\",\"LABU\",\"YINN\",\"DPST\",\"NAIL\"]\n",
    "des1 = should_buy(tickers)\n",
    "for d in des1:\n",
    "    print(\"Buying descision: {} for ticker: {}.\".format(d[1], d[0]))\n"
   ]
  },
  {
   "cell_type": "code",
   "execution_count": 191,
   "metadata": {},
   "outputs": [
    {
     "name": "stdout",
     "output_type": "stream",
     "text": [
      "Selling descision: True for ticker: FAS.\n",
      "Selling descision: True for ticker: TNA.\n",
      "Selling descision: True for ticker: SOXL.\n",
      "Selling descision: True for ticker: TECL.\n",
      "Selling descision: False for ticker: LABU.\n",
      "Selling descision: False for ticker: YINN.\n",
      "Selling descision: True for ticker: DPST.\n",
      "Selling descision: False for ticker: NAIL.\n"
     ]
    }
   ],
   "source": [
    "## check to see if any of tickers have sell signals ##\n",
    "def should_sell(tickers):\n",
    "    des = []\n",
    "    for ticker in tickers:\n",
    "        data = getDF(ticker, 60)\n",
    "        if data.iloc[-1]['williams'] > -20:\n",
    "            des.append([ticker,True])\n",
    "        else:\n",
    "            des.append([ticker,False])\n",
    "    return des\n",
    "\n",
    "tickers = [\"FAS\",\"TNA\",\"SOXL\",\"TECL\",\"LABU\",\"YINN\",\"DPST\",\"NAIL\"]\n",
    "des2 = should_buy(tickers)\n",
    "for d in des2:\n",
    "    print(\"Selling descision: {} for ticker: {}.\".format(d[1], d[0]))"
   ]
  },
  {
   "cell_type": "code",
   "execution_count": 129,
   "metadata": {},
   "outputs": [
    {
     "name": "stdout",
     "output_type": "stream",
     "text": [
      "True\n"
     ]
    }
   ],
   "source": [
    "## check to see if there is a position in ticker ##\n",
    "def does_pos(ticker):\n",
    "    portfolio = api.list_positions()\n",
    "    pos_owned = []\n",
    "    for position in portfolio:\n",
    "        pos_owned.append(position.symbol)\n",
    "    state = ticker in pos_owned\n",
    "    return state\n",
    "\n",
    "dwo = does_pos('YINN')\n",
    "print(dwo)"
   ]
  },
  {
   "cell_type": "code",
   "execution_count": 136,
   "metadata": {},
   "outputs": [],
   "source": [
    "## if we do not own the ticker, buy order ##\n",
    "account = api.get_account()\n",
    "for i in des1:\n",
    "    if i[1] == True and does_pos(i[0]) == False:\n",
    "        \n",
    "        # figuring out how many shares to buy #\n",
    "        last_price = api.get_last_trade(i[0]).price\n",
    "        order_amount = int(((float(account.buying_power)/len(tickers))*.95)/last_price)\n",
    "        \n",
    "        # Buy a stock\n",
    "        api.submit_order(\n",
    "          symbol=i[0]; # Replace with the ticker of the stock you want to buy\n",
    "          qty=order_amount,\n",
    "          side='buy',\n",
    "          type='market', \n",
    "          time_in_force='day' # day\n",
    "        )\n",
    "        \n",
    "        print(\"place buy order for {} and {} shares.\".format(i[0], order_amount))"
   ]
  },
  {
   "cell_type": "code",
   "execution_count": 131,
   "metadata": {},
   "outputs": [
    {
     "data": {
      "text/plain": [
       "[['FAS', False],\n",
       " ['TNA', False],\n",
       " ['SOXL', False],\n",
       " ['TECL', False],\n",
       " ['LABU', False],\n",
       " ['YINN', False],\n",
       " ['DPST', False],\n",
       " ['NAIL', False]]"
      ]
     },
     "execution_count": 131,
     "metadata": {},
     "output_type": "execute_result"
    }
   ],
   "source": [
    "des1"
   ]
  },
  {
   "cell_type": "code",
   "execution_count": 134,
   "metadata": {},
   "outputs": [],
   "source": [
    "\n",
    "## if we do own the ticker, sell order ##\n",
    "for i in des2:\n",
    "    if i[1] == True and does_pos(i[0]) == True:\n",
    "        \n",
    "        # how many shares to sell #\n",
    "        order_amount = int(api.get_position(ticker).qty)\n",
    "        \n",
    "        api.submit_order(\n",
    "          symbol=i[0]; # Replace with the ticker of the stock you want to buy\n",
    "          qty=order_amount,\n",
    "          side='sell',\n",
    "          type='market', \n",
    "          time_in_force='gtc' # Good 'til cancelled\n",
    "        )\n",
    "        \n",
    "        print(\"place sell order for {} and {} shares.\".format(i[0], order_amount))"
   ]
  },
  {
   "cell_type": "code",
   "execution_count": 135,
   "metadata": {},
   "outputs": [
    {
     "data": {
      "text/plain": [
       "[['FAS', True],\n",
       " ['TNA', True],\n",
       " ['SOXL', True],\n",
       " ['TECL', True],\n",
       " ['LABU', False],\n",
       " ['YINN', False],\n",
       " ['DPST', True],\n",
       " ['NAIL', False]]"
      ]
     },
     "execution_count": 135,
     "metadata": {},
     "output_type": "execute_result"
    }
   ],
   "source": [
    "des2"
   ]
  },
  {
   "cell_type": "code",
   "execution_count": 198,
   "metadata": {},
   "outputs": [
    {
     "name": "stdout",
     "output_type": "stream",
     "text": [
      "Account number: PA3A3BVCX4JY\n",
      "Buying power: $17859.18\n",
      "Cash available: $9646.59\n",
      "$1205.82375 allowed for each ticker, or 12.5%.\n",
      "status: ACTIVE\n",
      "trading blocked: False\n",
      "\n",
      "I own 10 shares of YINN.\n",
      "I own -10 shares of TECL.\n",
      "I own 10 shares of NAIL.\n"
     ]
    }
   ],
   "source": [
    "## the start of the program will update us on a few things ##\n",
    "account = api.get_account()\n",
    "print(\"Account number: {}\".format(account.account_number))\n",
    "print(\"Buying power: ${}\".format(account.buying_power))\n",
    "print(\"Cash available: ${}\".format(account.cash))\n",
    "print('${} allowed for each ticker, or {}%.'.format(float(account.cash)/len(tickers),100/len(tickers)))\n",
    "print(\"status: {}\".format(account.status))\n",
    "print(\"trading blocked: {}\".format(account.trading_blocked))\n",
    "print()\n",
    "## check current positions ##\n",
    "# Get a list of all of our positions.\n",
    "portfolio = api.list_positions()\n",
    "# Print the quantity of shares for each position.\n",
    "for position in portfolio:\n",
    "    print(\"I own {} shares of {}.\".format(position.qty, position.symbol))"
   ]
  },
  {
   "cell_type": "code",
   "execution_count": 195,
   "metadata": {},
   "outputs": [
    {
     "name": "stdout",
     "output_type": "stream",
     "text": [
      "1422.5002562166667\n"
     ]
    }
   ],
   "source": [
    "## loop that sets when logic is executed ##\n",
    "minutes = time_to_market_close()\n",
    "print(minutes)"
   ]
  },
  {
   "cell_type": "code",
   "execution_count": 197,
   "metadata": {},
   "outputs": [
    {
     "name": "stdout",
     "output_type": "stream",
     "text": [
      "1422.2048600833334\n"
     ]
    },
    {
     "ename": "KeyboardInterrupt",
     "evalue": "",
     "output_type": "error",
     "traceback": [
      "\u001b[0;31m---------------------------------------------------------------------------\u001b[0m",
      "\u001b[0;31mKeyboardInterrupt\u001b[0m                         Traceback (most recent call last)",
      "\u001b[0;32m<ipython-input-197-89658f5ab82d>\u001b[0m in \u001b[0;36m<module>\u001b[0;34m\u001b[0m\n\u001b[1;32m      1\u001b[0m \u001b[0;32mwhile\u001b[0m \u001b[0mminutes\u001b[0m \u001b[0;34m>\u001b[0m \u001b[0;36m68\u001b[0m\u001b[0;34m:\u001b[0m\u001b[0;34m\u001b[0m\u001b[0;34m\u001b[0m\u001b[0m\n\u001b[1;32m      2\u001b[0m     \u001b[0mminutes\u001b[0m \u001b[0;34m=\u001b[0m \u001b[0mtime_to_market_close\u001b[0m\u001b[0;34m(\u001b[0m\u001b[0;34m)\u001b[0m\u001b[0;34m\u001b[0m\u001b[0;34m\u001b[0m\u001b[0m\n\u001b[0;32m----> 3\u001b[0;31m     \u001b[0mtime\u001b[0m\u001b[0;34m.\u001b[0m\u001b[0msleep\u001b[0m\u001b[0;34m(\u001b[0m\u001b[0;36m5\u001b[0m\u001b[0;34m)\u001b[0m\u001b[0;34m\u001b[0m\u001b[0;34m\u001b[0m\u001b[0m\n\u001b[0m\u001b[1;32m      4\u001b[0m     \u001b[0mprint\u001b[0m\u001b[0;34m(\u001b[0m\u001b[0mminutes\u001b[0m\u001b[0;34m)\u001b[0m\u001b[0;34m\u001b[0m\u001b[0;34m\u001b[0m\u001b[0m\n\u001b[1;32m      5\u001b[0m \u001b[0;34m\u001b[0m\u001b[0m\n",
      "\u001b[0;31mKeyboardInterrupt\u001b[0m: "
     ]
    }
   ],
   "source": [
    "\n",
    "while minutes > 68:\n",
    "    minutes = time_to_market_close()\n",
    "    time.sleep(5)\n",
    "    print(minutes)\n",
    "    \n",
    "print('it left the loop!!')\n",
    "print()\n",
    "\n",
    "## the start of the program will update us on a few things ##\n",
    "account = api.get_account()\n",
    "print(\"Account number: {}\".format(account.account_number))\n",
    "print(\"Buying power: ${}\".format(account.buying_power))\n",
    "print(\"Cash available: ${}\".format(account.cash))\n",
    "print('${} allowed for each ticker, or {}%.'.format(float(account.cash)/len(tickers),100/len(tickers)))\n",
    "print(\"status: {}\".format(account.status))\n",
    "print(\"trading blocked: {}\".format(account.trading_blocked))\n",
    "print()\n",
    "## check current positions ##\n",
    "# Get a list of all of our positions.\n",
    "portfolio = api.list_positions()\n",
    "# Print the quantity of shares for each position.\n",
    "for position in portfolio:\n",
    "    print(\"I own {} shares of {}.\".format(position.qty, position.symbol))"
   ]
  },
  {
   "cell_type": "code",
   "execution_count": 196,
   "metadata": {},
   "outputs": [
    {
     "name": "stdout",
     "output_type": "stream",
     "text": [
      "0 orders in.\n"
     ]
    }
   ],
   "source": [
    "## print information after script has ran ##\n",
    "## list orders and details ##\n",
    "orders = api.list_orders()\n",
    "print(\"{} orders in.\".format(len(orders)))\n",
    "for o in orders:\n",
    "    print(\"Sell {} shares of {} on {}.\".format(o.qty, o.symbol, o.time_in_force))\n"
   ]
  },
  {
   "cell_type": "code",
   "execution_count": null,
   "metadata": {},
   "outputs": [],
   "source": []
  }
 ],
 "metadata": {
  "kernelspec": {
   "display_name": "Python 3",
   "language": "python",
   "name": "python3"
  },
  "language_info": {
   "codemirror_mode": {
    "name": "ipython",
    "version": 3
   },
   "file_extension": ".py",
   "mimetype": "text/x-python",
   "name": "python",
   "nbconvert_exporter": "python",
   "pygments_lexer": "ipython3",
   "version": "3.8.5"
  }
 },
 "nbformat": 4,
 "nbformat_minor": 4
}

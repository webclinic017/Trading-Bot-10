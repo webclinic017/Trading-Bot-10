{
 "cells": [
  {
   "cell_type": "code",
   "execution_count": 104,
   "metadata": {},
   "outputs": [],
   "source": [
    "import alpaca_trade_api as tradeapi\n",
    "from datetime import date\n",
    "import time\n",
    "import datetime\n",
    "import requests\n",
    "import json\n",
    "import pandas as pd\n",
    "import numpy as np\n",
    "from datetime import datetime, timedelta\n",
    "from pytz import timezone\n",
    "import pandas_ta as ta\n",
    "import yfinance as yf"
   ]
  },
  {
   "cell_type": "code",
   "execution_count": 51,
   "metadata": {},
   "outputs": [],
   "source": [
    "BASE_URL = 'https://paper-api.alpaca.markets'\n",
    "PUB_KEY = 'PK92I7HHN7R3TNHJSJG8'\n",
    "SEC_KEY = 'To6M3zJRMYfaBriBAtPru9E2uSg7MnwPLiy5CO4G'\n",
    "api = tradeapi.REST(key_id= PUB_KEY, secret_key=SEC_KEY, base_url=BASE_URL)"
   ]
  },
  {
   "cell_type": "code",
   "execution_count": 156,
   "metadata": {},
   "outputs": [],
   "source": [
    "def getDB(ticker):\n",
    "    tick = ticker\n",
    "    # Load data\n",
    "    data = yf.Ticker(tick)\n",
    "    df = data.history(period=\"1mo\", interval=\"15m\")\n",
    "#     df = data.history(start=\"2018-12-01\", end=\"2020-03-01\")\n",
    "#     start=\"2017-01-01\", end=\"2017-04-30\"\n",
    "    \n",
    "    # add data points\n",
    "    df['close_per1'] = df.ta.percent_return(1)*100\n",
    "    df['sma10'] = df.ta.sma(length=10)\n",
    "    df['williams'] = df.ta.willr(7)\n",
    "\n",
    "\n",
    "    df = df[[\n",
    "            'open','close','sma10','williams'\n",
    "            ]]\n",
    "\n",
    "    df = df.dropna()\n",
    "    df.reset_index(inplace=True)\n",
    "    \n",
    "    return df"
   ]
  },
  {
   "cell_type": "code",
   "execution_count": 157,
   "metadata": {},
   "outputs": [
    {
     "name": "stdout",
     "output_type": "stream",
     "text": [
      "                   datetime        open       close       sma10   williams\n",
      "0 2021-12-06 11:45:00-05:00  127.820000  127.239998  127.077421 -47.862760\n",
      "1 2021-12-06 12:00:00-05:00  127.144997  127.779999  127.306921 -36.958345\n",
      "2 2021-12-06 12:15:00-05:00  127.608002  128.279999  127.563921 -21.812890\n",
      "3 2021-12-06 12:30:00-05:00  127.989998  127.879997  127.735920 -40.306188\n",
      "4 2021-12-06 12:45:00-05:00  127.855003  128.190002  127.905930 -23.710963\n",
      "                     datetime        open       close       sma10   williams\n",
      "507 2022-01-03 15:00:00-05:00  134.410004  133.820007  134.492133 -99.121950\n",
      "508 2022-01-03 15:15:00-05:00  133.869995  134.270004  134.473132 -56.755791\n",
      "509 2022-01-03 15:30:00-05:00  134.369995  133.970001  134.403003 -83.236142\n",
      "510 2022-01-03 15:45:00-05:00  134.059998  134.660004  134.382004 -24.843137\n",
      "511 2022-01-03 16:00:00-05:00  134.539993  134.539993  134.419003 -35.124183\n",
      "512\n"
     ]
    },
    {
     "data": {
      "text/plain": [
       "2700"
      ]
     },
     "execution_count": 157,
     "metadata": {},
     "output_type": "execute_result"
    }
   ],
   "source": [
    "data = getDB(\"FAS\")\n",
    "print(data.head())\n",
    "print(data.tail())\n",
    "print(len(data))\n",
    "# print((df.iloc[0]['datetime']-df.iloc[0]['datetime']).minutes)\n",
    "df.iloc[0]['datetime'].minute\n",
    "(df.iloc[11]['datetime']-df.iloc[8]['datetime']).seconds"
   ]
  },
  {
   "cell_type": "code",
   "execution_count": 158,
   "metadata": {},
   "outputs": [
    {
     "name": "stdout",
     "output_type": "stream",
     "text": [
      "\n",
      "ticker: FAS\n",
      "Bought on 2021-12-06 & sold on 2021-12-07. Delta 1095.0 minutes. 4.23%\n",
      "Bought on 2021-12-07 & sold on 2021-12-07. Delta 60.0 minutes. 0.99%\n",
      "Bought on 2021-12-08 & sold on 2021-12-08. Delta 270.0 minutes. 1.72%\n",
      "Bought on 2021-12-09 & sold on 2021-12-09. Delta 150.0 minutes. 1.67%\n",
      "Bought on 2021-12-10 & sold on 2021-12-10. Delta 60.0 minutes. 1.21%\n",
      "Bought on 2021-12-13 & sold on 2021-12-13. Delta 45.0 minutes. 1.34%\n",
      "Bought on 2021-12-14 & sold on 2021-12-14. Delta 90.0 minutes. 1.5%\n",
      "Bought on 2021-12-15 & sold on 2021-12-15. Delta 135.0 minutes. 1.96%\n",
      "Bought on 2021-12-17 & sold on 2021-12-17. Delta 75.0 minutes. 3.93%\n",
      "Bought on 2021-12-20 & sold on 2021-12-20. Delta 150.0 minutes. 1.58%\n",
      "Bought on 2021-12-21 & sold on 2021-12-22. Delta 1095.0 minutes. 1.02%\n",
      "Bought on 2021-12-22 & sold on 2021-12-22. Delta 75.0 minutes. 0.65%\n",
      "Bought on 2021-12-23 & sold on 2021-12-23. Delta 75.0 minutes. 0.26%\n",
      "Bought on 2021-12-23 & sold on 2021-12-27. Delta 1140.0 minutes. 1.53%\n",
      "Bought on 2021-12-27 & sold on 2021-12-27. Delta 45.0 minutes. 1.09%\n",
      "Bought on 2021-12-28 & sold on 2021-12-28. Delta 90.0 minutes. 0.93%\n",
      "Bought on 2021-12-29 & sold on 2021-12-29. Delta 60.0 minutes. 0.63%\n",
      "Bought on 2021-12-30 & sold on 2021-12-30. Delta 120.0 minutes. 0.45%\n",
      "Bought on 2021-12-31 & sold on 2021-12-31. Delta 195.0 minutes. 0.87%\n",
      "Bought on 2021-12-31 & sold on 2022-01-03. Delta 1065.0 minutes. 3.51%\n",
      "Number of trades: 20\n",
      "Percentage average when trading williams method: 1.55%\n",
      "\n",
      "ticker: SOXL\n",
      "Bought on 2021-12-08 & sold on 2021-12-08. Delta 60.0 minutes. 1.13%\n",
      "Bought on 2021-12-10 & sold on 2021-12-10. Delta 255.0 minutes. 2.19%\n",
      "Bought on 2021-12-14 & sold on 2021-12-14. Delta 45.0 minutes. 1.79%\n",
      "Bought on 2021-12-15 & sold on 2021-12-15. Delta 90.0 minutes. 1.22%\n",
      "Bought on 2021-12-16 & sold on 2021-12-17. Delta 1245.0 minutes. 2.41%\n",
      "Bought on 2021-12-20 & sold on 2021-12-21. Delta 1365.0 minutes. 9.44%\n",
      "Bought on 2021-12-21 & sold on 2021-12-22. Delta 1155.0 minutes. 1.67%\n",
      "Bought on 2021-12-22 & sold on 2021-12-22. Delta 45.0 minutes. 2.04%\n",
      "Bought on 2021-12-23 & sold on 2021-12-23. Delta 45.0 minutes. 1.05%\n",
      "Bought on 2021-12-23 & sold on 2021-12-27. Delta 1095.0 minutes. 5.01%\n",
      "Bought on 2021-12-28 & sold on 2021-12-28. Delta 165.0 minutes. 0.53%\n",
      "Bought on 2021-12-29 & sold on 2021-12-29. Delta 135.0 minutes. 0.72%\n",
      "Bought on 2021-12-30 & sold on 2022-01-03. Delta 1125.0 minutes. 3.57%\n",
      "Number of trades: 13\n",
      "Percentage average when trading williams method: 2.52%\n",
      "\n",
      "\n",
      "total average: 2.04%\n",
      "total trades: 33\n",
      "with 2 tickers\n"
     ]
    }
   ],
   "source": [
    "# tickers = [\"FAS\",\"TNA\",\"SOXL\",\"TECL\",\"LABU\",\"YINN\",\"DPST\",\"NAIL\"]\n",
    "# tickers = [\"FAS\",\"SOXL\"]\n",
    "# tickers = [\"SOXL\",\"SPXL\",\"TECL\",\"FAS\",\"UPRO\",\"FNGU\",\"TNA\",\"LABU\",\"YINN\",\"DPST\",\"NAIL\",\"DFEN\",\"CURE\",\"EURL\",\"DUSL\",\"MIDU\",\"EDU\",\"MEXX\",\"PILL\",\"DRN\",\"RETL\",\"TPOR\",\"UTSL\",\"KORU\",\"OILU\"]\n",
    "tickers = [\"SOXL\",\"FAS\",\"FNGU\",\"TNA\",\"LABU\",\"YINN\",\"DPST\",\"NAIL\",\"DFEN\",\"DUSL\",\"MIDU\",\"MEXX\",\"PILL\",\"RETL\",\"TPOR\",\"KORU\"]\n",
    "\n",
    "ALL = []; amount = []\n",
    "for ticker in tickers:\n",
    "    print()\n",
    "    print(\"ticker: {}\".format(ticker))\n",
    "#     df = getDF(ticker,120)\n",
    "    df = getDB(ticker)\n",
    "    ## Williams trading idea ##\n",
    "    returnP1 = []; returnP2 = []\n",
    "    buyState = False\n",
    "    # setting the outputs in the df\n",
    "    for i in range(len(df)):\n",
    "        if df.iloc[i]['williams'] < -90:\n",
    "            buy = df.iloc[i]['close']\n",
    "            buyState = True\n",
    "            buyD = df.iloc[i]['datetime']\n",
    "\n",
    "        if buyState == True and df.iloc[i]['williams'] > -10:\n",
    "            sell = df.iloc[i]['close']\n",
    "            R = ((sell-buy)/abs(buy))*100\n",
    "            r = round(R, 2)\n",
    "            returnP1.append(r)\n",
    "            buyState = False\n",
    "            sellD = df.iloc[i]['datetime']\n",
    "            delta = round(((sellD - buyD).seconds/60),2)\n",
    "            print(\"Bought on {} & sold on {}. Delta {} minutes. {}%\".format(buyD.strftime('%Y-%m-%d'), sellD.strftime('%Y-%m-%d'), delta, r))\n",
    "\n",
    "#     print()\n",
    "#     print()\n",
    "    avgP1 = np.average(returnP1)\n",
    "    # avgP2 = np.average(returnP2)\n",
    "    # print(avgP1)\n",
    "#     print(\"ticker: {}\".format(ticker))\n",
    "#     print(\"Number of trade days: %d\" % (len(df)))\n",
    "    print(\"Number of trades: %d\" % (len(returnP1)))\n",
    "    print(\"Percentage average when trading williams method: {}%\".format(round(avgP1,2)))\n",
    "    # print(\"Average return if loss limit is 0.1 percent: %f\" % (avgP2))\n",
    "#     print(returnP1)\n",
    "    ALL.append(avgP1)\n",
    "    amount.append(len(returnP1))\n",
    "    time.sleep(3)\n",
    "\n",
    "print()\n",
    "print()\n",
    "print(\"total average: {}%\".format(round(np.average(ALL),2)))\n",
    "print(\"total trades: {}\".format(int(np.sum(amount))))\n",
    "print(\"with {} tickers\".format(len(tickers)))"
   ]
  },
  {
   "cell_type": "code",
   "execution_count": null,
   "metadata": {},
   "outputs": [],
   "source": []
  }
 ],
 "metadata": {
  "kernelspec": {
   "display_name": "Python 3",
   "language": "python",
   "name": "python3"
  },
  "language_info": {
   "codemirror_mode": {
    "name": "ipython",
    "version": 3
   },
   "file_extension": ".py",
   "mimetype": "text/x-python",
   "name": "python",
   "nbconvert_exporter": "python",
   "pygments_lexer": "ipython3",
   "version": "3.8.5"
  }
 },
 "nbformat": 4,
 "nbformat_minor": 4
}

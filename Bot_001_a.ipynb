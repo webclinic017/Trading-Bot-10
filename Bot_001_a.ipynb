{
 "cells": [
  {
   "cell_type": "code",
   "execution_count": 5,
   "metadata": {},
   "outputs": [],
   "source": [
    "import alpaca_trade_api as tradeapi\n",
    "from datetime import date\n",
    "import time\n",
    "import datetime\n"
   ]
  },
  {
   "cell_type": "code",
   "execution_count": 6,
   "metadata": {},
   "outputs": [],
   "source": [
    "BASE_URL = 'https://paper-api.alpaca.markets'\n",
    "PUB_KEY = 'PK23SND8QLZ211MQPQXI'\n",
    "SEC_KEY = '97t5BjP9Ugmym4404zPqRL2js2RWs9PZXt3dhbOr'\n",
    "api = tradeapi.REST(key_id= PUB_KEY, secret_key=SEC_KEY, base_url=BASE_URL)"
   ]
  },
  {
   "cell_type": "code",
   "execution_count": 7,
   "metadata": {},
   "outputs": [
    {
     "name": "stdout",
     "output_type": "stream",
     "text": [
      "Day 1.\n",
      "still the same day\n",
      "still the same day\n",
      "still the same day\n",
      "the day changed\n",
      "previous day close 130.7.\n",
      "still isnt open\n",
      "still isnt open\n",
      "still isnt open\n",
      "the market opened up\n",
      "\n",
      "Day 2.\n",
      "still the same day\n",
      "still the same day\n",
      "still the same day\n",
      "the day changed\n",
      "previous day close 130.7.\n",
      "still isnt open\n",
      "still isnt open\n",
      "still isnt open\n",
      "the market opened up\n",
      "\n",
      "Day 3.\n",
      "still the same day\n",
      "still the same day\n",
      "still the same day\n",
      "the day changed\n",
      "previous day close 130.7.\n",
      "still isnt open\n",
      "still isnt open\n",
      "still isnt open\n",
      "the market opened up\n",
      "\n"
     ]
    }
   ],
   "source": [
    "ticker = \"FAS\"\n",
    "\n",
    "trading = True; days = 1\n",
    "# making a loop that will last for 3 days\n",
    "while trading:\n",
    "    print(\"Day {}.\".format(days))\n",
    "    \n",
    "    # waiting for the day to change\n",
    "    todayDate = date.today() # setting todays date\n",
    "    times = 0 # for testing reasons it will loop 3 times.\n",
    "    while date.today() == todayDate: # if it is still the same day it will stay up here in the code\n",
    "        print('still the same day')\n",
    "        times += 1\n",
    "        if times == 3:\n",
    "            todayDate = 'not today'\n",
    "        time.sleep(.25) # sleeping for 0.5 second so it isn't freaking out\n",
    "        \n",
    "    print('the day changed')\n",
    "\n",
    "    # Get daily price data for AAPL over the last 5 trading days.\n",
    "    barset = api.get_barset(ticker, 'day', limit=5)\n",
    "    open_price = barset[ticker][-1].c\n",
    "    print('previous day close {}.'.format(open_price))\n",
    "\n",
    "\n",
    "    clock = api.get_clock()\n",
    "    times = 0\n",
    "    while not clock.is_open:\n",
    "        times += 1\n",
    "        print('still isn''t open')\n",
    "        if times == 3:\n",
    "            break\n",
    "        \n",
    "    print('the market opened up')\n",
    "    \n",
    "\n",
    "        \n",
    "    days += 1\n",
    "    if days == 4:\n",
    "        trading = False\n",
    "    \n",
    "    print()\n"
   ]
  },
  {
   "cell_type": "code",
   "execution_count": 13,
   "metadata": {},
   "outputs": [
    {
     "name": "stdout",
     "output_type": "stream",
     "text": [
      "2022-01-02\n"
     ]
    }
   ],
   "source": [
    "todayDate = date.today()\n",
    "print(todayDate)"
   ]
  },
  {
   "cell_type": "code",
   "execution_count": 23,
   "metadata": {},
   "outputs": [
    {
     "name": "stdout",
     "output_type": "stream",
     "text": [
      "Quote({   'askexchange': 15,\n",
      "    'askprice': 0,\n",
      "    'asksize': 0,\n",
      "    'bidexchange': 15,\n",
      "    'bidprice': 0,\n",
      "    'bidsize': 0,\n",
      "    'timestamp': 1640984453787315300})\n"
     ]
    }
   ],
   "source": [
    "lq = api.get_last_quote(\"AAPL\")\n",
    "print(lq)"
   ]
  },
  {
   "cell_type": "code",
   "execution_count": 21,
   "metadata": {},
   "outputs": [],
   "source": [
    "lt = api.get_last_trade(\"AAPL\")"
   ]
  },
  {
   "cell_type": "code",
   "execution_count": 31,
   "metadata": {},
   "outputs": [],
   "source": [
    "from datetime import datetime\n",
    "dt = datetime.fromtimestamp(1640984453787315300 // 1000000000)\n",
    "s = dt.strftime('%Y-%m-%d %H:%M:%S')"
   ]
  },
  {
   "cell_type": "code",
   "execution_count": 32,
   "metadata": {},
   "outputs": [
    {
     "data": {
      "text/plain": [
       "'2021-12-31 16:00:53'"
      ]
     },
     "execution_count": 32,
     "metadata": {},
     "output_type": "execute_result"
    }
   ],
   "source": [
    "s"
   ]
  },
  {
   "cell_type": "code",
   "execution_count": null,
   "metadata": {},
   "outputs": [],
   "source": []
  }
 ],
 "metadata": {
  "kernelspec": {
   "display_name": "Python 3",
   "language": "python",
   "name": "python3"
  },
  "language_info": {
   "codemirror_mode": {
    "name": "ipython",
    "version": 3
   },
   "file_extension": ".py",
   "mimetype": "text/x-python",
   "name": "python",
   "nbconvert_exporter": "python",
   "pygments_lexer": "ipython3",
   "version": "3.8.5"
  }
 },
 "nbformat": 4,
 "nbformat_minor": 4
}

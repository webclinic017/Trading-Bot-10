{
 "cells": [
  {
   "cell_type": "code",
   "execution_count": 118,
   "metadata": {},
   "outputs": [],
   "source": [
    "import alpaca_trade_api as tradeapi\n",
    "from datetime import date\n",
    "import time\n",
    "import datetime\n",
    "import requests\n",
    "import json\n",
    "import pandas as pd\n"
   ]
  },
  {
   "cell_type": "code",
   "execution_count": 6,
   "metadata": {},
   "outputs": [],
   "source": [
    "BASE_URL = 'https://paper-api.alpaca.markets'\n",
    "PUB_KEY = 'PK23SND8QLZ211MQPQXI'\n",
    "SEC_KEY = '97t5BjP9Ugmym4404zPqRL2js2RWs9PZXt3dhbOr'\n",
    "api = tradeapi.REST(key_id= PUB_KEY, secret_key=SEC_KEY, base_url=BASE_URL)"
   ]
  },
  {
   "cell_type": "code",
   "execution_count": 55,
   "metadata": {},
   "outputs": [],
   "source": [
    "ticker = \"AAPL\""
   ]
  },
  {
   "cell_type": "code",
   "execution_count": 7,
   "metadata": {},
   "outputs": [
    {
     "name": "stdout",
     "output_type": "stream",
     "text": [
      "Day 1.\n",
      "still the same day\n",
      "still the same day\n",
      "still the same day\n",
      "the day changed\n",
      "previous day close 130.7.\n",
      "still isnt open\n",
      "still isnt open\n",
      "still isnt open\n",
      "the market opened up\n",
      "\n",
      "Day 2.\n",
      "still the same day\n",
      "still the same day\n",
      "still the same day\n",
      "the day changed\n",
      "previous day close 130.7.\n",
      "still isnt open\n",
      "still isnt open\n",
      "still isnt open\n",
      "the market opened up\n",
      "\n",
      "Day 3.\n",
      "still the same day\n",
      "still the same day\n",
      "still the same day\n",
      "the day changed\n",
      "previous day close 130.7.\n",
      "still isnt open\n",
      "still isnt open\n",
      "still isnt open\n",
      "the market opened up\n",
      "\n"
     ]
    }
   ],
   "source": [
    "\n",
    "\n",
    "trading = True; days = 1\n",
    "# making a loop that will last for 3 days\n",
    "while trading:\n",
    "    print(\"Day {}.\".format(days))\n",
    "    \n",
    "    # waiting for the day to change\n",
    "    todayDate = date.today() # setting todays date\n",
    "    times = 0 # for testing reasons it will loop 3 times.\n",
    "    while date.today() == todayDate: # if it is still the same day it will stay up here in the code\n",
    "        print('still the same day')\n",
    "        times += 1\n",
    "        if times == 3:\n",
    "            todayDate = 'not today'\n",
    "        time.sleep(.25) # sleeping for 0.5 second so it isn't freaking out\n",
    "        \n",
    "    print('the day changed')\n",
    "\n",
    "    # Get daily price data for AAPL over the last 5 trading days.\n",
    "    barset = api.get_barset(ticker, 'day', limit=5)\n",
    "    open_price = barset[ticker][-1].c\n",
    "    print('previous day close {}.'.format(open_price))\n",
    "\n",
    "\n",
    "    clock = api.get_clock()\n",
    "    times = 0\n",
    "    while not clock.is_open:\n",
    "        times += 1\n",
    "        print('still isn''t open')\n",
    "        if times == 3:\n",
    "            break\n",
    "        \n",
    "    print('the market opened up')\n",
    "    \n",
    "\n",
    "        \n",
    "    days += 1\n",
    "    if days == 4:\n",
    "        trading = False\n",
    "    \n",
    "    print()\n"
   ]
  },
  {
   "cell_type": "code",
   "execution_count": 13,
   "metadata": {},
   "outputs": [
    {
     "name": "stdout",
     "output_type": "stream",
     "text": [
      "2022-01-02\n"
     ]
    }
   ],
   "source": [
    "todayDate = date.today()\n",
    "print(todayDate)"
   ]
  },
  {
   "cell_type": "code",
   "execution_count": 59,
   "metadata": {},
   "outputs": [],
   "source": [
    "def convertTS(timestamp):\n",
    "    t = timestamp.to_pydatetime()\n",
    "    s = t.strftime('%Y-%m-%d')\n",
    "    return s"
   ]
  },
  {
   "cell_type": "code",
   "execution_count": 1,
   "metadata": {},
   "outputs": [
    {
     "ename": "NameError",
     "evalue": "name 'api' is not defined",
     "output_type": "error",
     "traceback": [
      "\u001b[0;31m---------------------------------------------------------------------------\u001b[0m",
      "\u001b[0;31mNameError\u001b[0m                                 Traceback (most recent call last)",
      "\u001b[0;32m<ipython-input-1-331cec409a5d>\u001b[0m in \u001b[0;36m<module>\u001b[0;34m\u001b[0m\n\u001b[0;32m----> 1\u001b[0;31m \u001b[0mlq\u001b[0m \u001b[0;34m=\u001b[0m \u001b[0mapi\u001b[0m\u001b[0;34m.\u001b[0m\u001b[0mget_last_quote\u001b[0m\u001b[0;34m(\u001b[0m\u001b[0;34m\"AAPL\"\u001b[0m\u001b[0;34m)\u001b[0m\u001b[0;34m\u001b[0m\u001b[0;34m\u001b[0m\u001b[0m\n\u001b[0m\u001b[1;32m      2\u001b[0m \u001b[0;31m# print(lq)\u001b[0m\u001b[0;34m\u001b[0m\u001b[0;34m\u001b[0m\u001b[0;34m\u001b[0m\u001b[0m\n\u001b[1;32m      3\u001b[0m \u001b[0mts\u001b[0m \u001b[0;34m=\u001b[0m \u001b[0mconvertTS\u001b[0m\u001b[0;34m(\u001b[0m\u001b[0mlq\u001b[0m\u001b[0;34m.\u001b[0m\u001b[0mtimestamp\u001b[0m\u001b[0;34m)\u001b[0m\u001b[0;34m\u001b[0m\u001b[0;34m\u001b[0m\u001b[0m\n\u001b[1;32m      4\u001b[0m \u001b[0;31m# info = lq.timestamp\u001b[0m\u001b[0;34m\u001b[0m\u001b[0;34m\u001b[0m\u001b[0;34m\u001b[0m\u001b[0m\n\u001b[1;32m      5\u001b[0m \u001b[0;31m# t = info.to_pydatetime()\u001b[0m\u001b[0;34m\u001b[0m\u001b[0;34m\u001b[0m\u001b[0;34m\u001b[0m\u001b[0m\n",
      "\u001b[0;31mNameError\u001b[0m: name 'api' is not defined"
     ]
    }
   ],
   "source": [
    "lq = api.get_last_quote(\"AAPL\")\n",
    "# print(lq)\n",
    "ts = convertTS(lq.timestamp)\n",
    "# info = lq.timestamp\n",
    "# t = info.to_pydatetime()\n",
    "# s = t.strftime('%Y-%m-%d')\n",
    "ts"
   ]
  },
  {
   "cell_type": "code",
   "execution_count": 36,
   "metadata": {},
   "outputs": [],
   "source": [
    "lt = api.get_last_trade(\"AAPL\")"
   ]
  },
  {
   "cell_type": "code",
   "execution_count": 33,
   "metadata": {},
   "outputs": [],
   "source": [
    "from datetime import datetime\n",
    "dt = datetime.fromtimestamp(1640984453787315300 // 1000000000)\n",
    "# s = dt.strftime('%Y-%m-%d %H:%M:%S')\n",
    "s = dt.strftime('%Y-%m-%d')"
   ]
  },
  {
   "cell_type": "code",
   "execution_count": 58,
   "metadata": {},
   "outputs": [
    {
     "name": "stdout",
     "output_type": "stream",
     "text": [
      "                              open    high      low   close  volume\n",
      "time                                                               \n",
      "2021-12-31 15:55:00-05:00  177.580  177.62  177.520  177.52    8785\n",
      "2021-12-31 15:56:00-05:00  177.540  177.63  177.485  177.52    8867\n",
      "2021-12-31 15:57:00-05:00  177.505  177.59  177.490  177.57    7974\n",
      "2021-12-31 15:58:00-05:00  177.560  177.67  177.500  177.61   20486\n",
      "2021-12-31 15:59:00-05:00  177.610  177.72  177.580  177.66   40307\n",
      "177.61\n"
     ]
    }
   ],
   "source": [
    "market_data = api.get_barset(ticker, 'minute', limit=5)\n",
    "print(market_data[ticker].df)\n",
    "print(market_data[ticker][-1].o)"
   ]
  },
  {
   "cell_type": "code",
   "execution_count": 134,
   "metadata": {},
   "outputs": [],
   "source": [
    "\n",
    "\n",
    "api_key = \"af5dfc6f8b230bdf12bfae6008279325\"\n",
    "\n",
    "def fetch_most_recent_quote(tickers, api_key):\n",
    "    responses = []\n",
    "    fail_resp = []\n",
    "    with requests.session() as session:\n",
    "        for ticker in tickers:\n",
    "            #JOH: There is no else here? If we don't get a response, we are just skipping it\n",
    "            resp = session.get(f\"https://financialmodelingprep.com/api/v3/quote-short/\"+ticker+\"?apikey=\"+api_key)\n",
    "            try:\n",
    "                responses.append([resp,resp.json()[0]])\n",
    "            except:\n",
    "                responses.append([None,None])\n",
    "                fail_resp.append(ticker)\n",
    "                \n",
    "    return responses, fail_resp\n",
    "\n",
    "\n",
    "def fetch_day_before_quote(tickers, api_key):\n",
    "    responses = []\n",
    "    fail_resp = []\n",
    "    with requests.session() as session:\n",
    "        for ticker in tickers:\n",
    "            #JOH: There is no else here? If we don't get a response, we are just skipping it\n",
    "            resp = session.get(f\"https://financialmodelingprep.com/api/v3/historical-price-full/\"+ticker+\"?timeseries=1&apikey=\"+api_key)\n",
    "            try:\n",
    "                responses.append([resp,resp.json()])\n",
    "            except:\n",
    "                responses.append([None,None])\n",
    "                fail_resp.append(ticker)\n",
    "                \n",
    "    return responses, fail_resp\n"
   ]
  },
  {
   "cell_type": "code",
   "execution_count": 137,
   "metadata": {},
   "outputs": [],
   "source": [
    "# tickers = [\"FAS\",\"TNA\"]\n",
    "# # def formatting_data(tickers):\n",
    "# mrq,fr1 = fetch_most_recent_quote(tickers, api_key)\n",
    "# dbq,fr2 = fetch_day_before_quote(tickers, api_key)\n",
    "\n",
    "# close_data = []; open_data = []\n",
    "# for o, c in zip(dbq, mrq):\n",
    "#     close_data.append(c[1]['price'])\n",
    "#     open_data.append(o[1]['historical'][0]['close'])\n",
    "\n",
    "# all_data = {'ticker': tickers, \"close_data\": close_data, \"open_data\": open_data}\n",
    "all_data = {'ticker': tickers, \"close_data\": close_data, \"open_data\": [131,84]}\n",
    "\n",
    "all_data = pd.DataFrame(all_data)\n"
   ]
  },
  {
   "cell_type": "code",
   "execution_count": 138,
   "metadata": {},
   "outputs": [
    {
     "name": "stdout",
     "output_type": "stream",
     "text": [
      "  ticker  close_data  open_data\n",
      "0    FAS      130.73        131\n",
      "1    TNA       84.75         84\n"
     ]
    }
   ],
   "source": [
    "# tickers = [\"FAS\",\"TNA\"]\n",
    "# all_data = formatting_data(tickers)\n",
    "print(all_data)"
   ]
  },
  {
   "cell_type": "code",
   "execution_count": 142,
   "metadata": {},
   "outputs": [
    {
     "name": "stdout",
     "output_type": "stream",
     "text": [
      "['FAS']\n"
     ]
    }
   ],
   "source": [
    "bid = []\n",
    "for i in range(len(all_data)):\n",
    "    if all_data.iloc[i]['close_data'] < all_data.iloc[i]['open_data']:\n",
    "        bid.append(all_data.iloc[i]['ticker'])\n",
    "print(bid)"
   ]
  },
  {
   "cell_type": "code",
   "execution_count": 143,
   "metadata": {},
   "outputs": [
    {
     "name": "stdout",
     "output_type": "stream",
     "text": [
      "I'll be placing bids on these tickers: ['FAS'].\n"
     ]
    }
   ],
   "source": [
    "print(\"I'll be placing bids on these tickers: {}.\".format(bid))"
   ]
  },
  {
   "cell_type": "code",
   "execution_count": 150,
   "metadata": {},
   "outputs": [
    {
     "name": "stdout",
     "output_type": "stream",
     "text": [
      "Current Timestamp :  00:12\n"
     ]
    }
   ],
   "source": [
    "# Converting datetime object to string\n",
    "# import datetime\n",
    "dateTimeObj = datetime.datetime.now()\n",
    "timestampStr = dateTimeObj.strftime(\"%d-%b-%Y (%H:%M:%S.%f)\")\n",
    "timestampStr = dateTimeObj.strftime(\"%H:%M\")\n",
    "print('Current Timestamp : ', timestampStr)"
   ]
  },
  {
   "cell_type": "code",
   "execution_count": 158,
   "metadata": {},
   "outputs": [
    {
     "data": {
      "text/plain": [
       "False"
      ]
     },
     "execution_count": 158,
     "metadata": {},
     "output_type": "execute_result"
    }
   ],
   "source": [
    "timestampStr == datetime.now(est).strftime(\"%I:%M\")"
   ]
  },
  {
   "cell_type": "code",
   "execution_count": 156,
   "metadata": {},
   "outputs": [
    {
     "name": "stdout",
     "output_type": "stream",
     "text": [
      "Time in MST: 22:20\n",
      "Time in EST: 12:20\n"
     ]
    }
   ],
   "source": [
    "from datetime import datetime\n",
    "from pytz import timezone\n",
    " \n",
    "mst = timezone('MST')\n",
    "print(\"Time in MST:\", datetime.now(mst).strftime(\"%H:%M\"))\n",
    " \n",
    "est = timezone('EST')\n",
    "print(\"Time in EST:\", datetime.now(est).strftime(\"%I:%M\"))"
   ]
  },
  {
   "cell_type": "code",
   "execution_count": 157,
   "metadata": {},
   "outputs": [
    {
     "data": {
      "text/plain": [
       "'12:20'"
      ]
     },
     "execution_count": 157,
     "metadata": {},
     "output_type": "execute_result"
    }
   ],
   "source": [
    "datetime.now(est).strftime(\"%I:%M\")"
   ]
  },
  {
   "cell_type": "code",
   "execution_count": null,
   "metadata": {},
   "outputs": [],
   "source": []
  }
 ],
 "metadata": {
  "kernelspec": {
   "display_name": "Python 3",
   "language": "python",
   "name": "python3"
  },
  "language_info": {
   "codemirror_mode": {
    "name": "ipython",
    "version": 3
   },
   "file_extension": ".py",
   "mimetype": "text/x-python",
   "name": "python",
   "nbconvert_exporter": "python",
   "pygments_lexer": "ipython3",
   "version": "3.8.5"
  }
 },
 "nbformat": 4,
 "nbformat_minor": 4
}
